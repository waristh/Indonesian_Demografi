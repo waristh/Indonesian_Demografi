{
 "cells": [
  {
   "cell_type": "code",
   "execution_count": 1,
   "metadata": {
    "colab": {
     "base_uri": "https://localhost:8080/"
    },
    "executionInfo": {
     "elapsed": 463,
     "status": "ok",
     "timestamp": 1627740784278,
     "user": {
      "displayName": "Waris TH",
      "photoUrl": "",
      "userId": "04985464198315729250"
     },
     "user_tz": -420
    },
    "id": "_Q2XL8sK4pc7",
    "outputId": "bcd59b49-ea75-4feb-9fac-fb32d7683bad"
   },
   "outputs": [],
   "source": [
    "# from google.colab import drive\n",
    "# drive.mount('/content/gdrive')"
   ]
  },
  {
   "cell_type": "code",
   "execution_count": 2,
   "metadata": {
    "colab": {
     "base_uri": "https://localhost:8080/"
    },
    "executionInfo": {
     "elapsed": 9,
     "status": "ok",
     "timestamp": 1627740784845,
     "user": {
      "displayName": "Waris TH",
      "photoUrl": "",
      "userId": "04985464198315729250"
     },
     "user_tz": -420
    },
    "id": "7j6cNri44r33",
    "outputId": "e79b5c07-7bc9-41ed-a664-5533768a81f6"
   },
   "outputs": [],
   "source": [
    "# cd /content/gdrive/MyDrive/Test_Data_Analyst/"
   ]
  },
  {
   "cell_type": "code",
   "execution_count": 3,
   "metadata": {},
   "outputs": [],
   "source": [
    "# !pip install geojson\n",
    "# # !pip install plotly==4.13.0\n",
    "# !pip install dash==1.19.0\n",
    "# !pip install dash-core-components==1.3.1\n",
    "# !pip install dash-html-components==1.0.1\n",
    "# !pip install dash-renderer==1.1.2\n",
    "# !pip install flask==1.1.2\n",
    "# !pip install geopandas==0.8.1\n",
    "# !pip install jupyter_dash\n",
    "# !pip install dash_bootstrap_components"
   ]
  },
  {
   "cell_type": "code",
   "execution_count": null,
   "metadata": {
    "id": "ao3OrZ2m49bt"
   },
   "outputs": [],
   "source": []
  },
  {
   "cell_type": "code",
   "execution_count": null,
   "metadata": {},
   "outputs": [],
   "source": []
  },
  {
   "cell_type": "code",
   "execution_count": 1,
   "metadata": {
    "id": "407d1c6d"
   },
   "outputs": [],
   "source": [
    "import pandas as pd\n",
    "import geojson\n",
    "with open('kabkota.geojson') as f:\n",
    "    gj = geojson.load(f)\n",
    "indo_kabkota_geojson = gj\n",
    "# indo_kabkota_geojson[\"features\"]"
   ]
  },
  {
   "cell_type": "code",
   "execution_count": null,
   "metadata": {
    "id": "70d4e300"
   },
   "outputs": [],
   "source": []
  },
  {
   "cell_type": "code",
   "execution_count": 5,
   "metadata": {
    "colab": {
     "background_save": true
    },
    "id": "4c6df778"
   },
   "outputs": [],
   "source": [
    "# indo_kabkota = pd.io.json.json_normalize(indo_kabkota_geojson['features'])\n",
    "# # indo_kabkota = indo_kabkota[['properties.ID_0','properties.NAME_0','properties.ID_1','properties.NAME_1','properties.ID_2','properties.NAME_2']]\n",
    "# indo_kabkota"
   ]
  },
  {
   "cell_type": "code",
   "execution_count": null,
   "metadata": {
    "colab": {
     "background_save": true
    },
    "id": "4b8ddcf3"
   },
   "outputs": [],
   "source": []
  },
  {
   "cell_type": "code",
   "execution_count": 2,
   "metadata": {
    "colab": {
     "background_save": true
    },
    "id": "6ff26dea"
   },
   "outputs": [
    {
     "data": {
      "text/html": [
       "<div>\n",
       "<style scoped>\n",
       "    .dataframe tbody tr th:only-of-type {\n",
       "        vertical-align: middle;\n",
       "    }\n",
       "\n",
       "    .dataframe tbody tr th {\n",
       "        vertical-align: top;\n",
       "    }\n",
       "\n",
       "    .dataframe thead th {\n",
       "        text-align: right;\n",
       "    }\n",
       "</style>\n",
       "<table border=\"1\" class=\"dataframe\">\n",
       "  <thead>\n",
       "    <tr style=\"text-align: right;\">\n",
       "      <th></th>\n",
       "      <th>Kota_Kabupaten</th>\n",
       "      <th>Provinsi</th>\n",
       "      <th>Area</th>\n",
       "      <th>Regional</th>\n",
       "      <th>PDRB</th>\n",
       "      <th>PDRB_Per_Kapita</th>\n",
       "      <th>Indeks_Pembangunan_Manusia</th>\n",
       "      <th>Jumlah_Penduduk</th>\n",
       "      <th>Luas_Wilayah</th>\n",
       "      <th>Dana_Alokasi_Umum</th>\n",
       "      <th>...</th>\n",
       "      <th>Jumlah_Penduduk_Miskin</th>\n",
       "      <th>Jumlah_Penduduk_Bekerja</th>\n",
       "      <th>Pengguna_Internet</th>\n",
       "      <th>Pemilik_Ponsel</th>\n",
       "      <th>Pengguna_Ponsel</th>\n",
       "      <th>Jumlah_Kelurahan</th>\n",
       "      <th>Jumlah_Desa</th>\n",
       "      <th>Kepadatan_Penduduk</th>\n",
       "      <th>New_PDRB_Per_Kapita</th>\n",
       "      <th>id</th>\n",
       "    </tr>\n",
       "  </thead>\n",
       "  <tbody>\n",
       "    <tr>\n",
       "      <th>0</th>\n",
       "      <td>Kota Sungai Penuh</td>\n",
       "      <td>Jambi</td>\n",
       "      <td>Area 1</td>\n",
       "      <td>Sumbagsel</td>\n",
       "      <td>7488</td>\n",
       "      <td>82367</td>\n",
       "      <td>75.42</td>\n",
       "      <td>96610</td>\n",
       "      <td>391</td>\n",
       "      <td>414326985</td>\n",
       "      <td>...</td>\n",
       "      <td>2</td>\n",
       "      <td>41806</td>\n",
       "      <td>46893</td>\n",
       "      <td>59407</td>\n",
       "      <td>72385</td>\n",
       "      <td>4</td>\n",
       "      <td>65</td>\n",
       "      <td>247.084399</td>\n",
       "      <td>8236.7</td>\n",
       "      <td>0</td>\n",
       "    </tr>\n",
       "    <tr>\n",
       "      <th>1</th>\n",
       "      <td>Kab. Lampung Tengah</td>\n",
       "      <td>Lampung</td>\n",
       "      <td>Area 1</td>\n",
       "      <td>Lampung</td>\n",
       "      <td>71953</td>\n",
       "      <td>56156</td>\n",
       "      <td>70.16</td>\n",
       "      <td>1460045</td>\n",
       "      <td>3802</td>\n",
       "      <td>1259528176</td>\n",
       "      <td>...</td>\n",
       "      <td>152</td>\n",
       "      <td>662539</td>\n",
       "      <td>943592</td>\n",
       "      <td>759070</td>\n",
       "      <td>1115607</td>\n",
       "      <td>10</td>\n",
       "      <td>301</td>\n",
       "      <td>384.020252</td>\n",
       "      <td>56156.0</td>\n",
       "      <td>15545</td>\n",
       "    </tr>\n",
       "    <tr>\n",
       "      <th>2</th>\n",
       "      <td>Kab. Mesuji</td>\n",
       "      <td>Lampung</td>\n",
       "      <td>Area 1</td>\n",
       "      <td>Lampung</td>\n",
       "      <td>10578</td>\n",
       "      <td>52835</td>\n",
       "      <td>63.63</td>\n",
       "      <td>227518</td>\n",
       "      <td>2184</td>\n",
       "      <td>410246380</td>\n",
       "      <td>...</td>\n",
       "      <td>14</td>\n",
       "      <td>95531</td>\n",
       "      <td>132091</td>\n",
       "      <td>114985</td>\n",
       "      <td>175374</td>\n",
       "      <td>0</td>\n",
       "      <td>105</td>\n",
       "      <td>104.174908</td>\n",
       "      <td>5283.5</td>\n",
       "      <td>0</td>\n",
       "    </tr>\n",
       "    <tr>\n",
       "      <th>3</th>\n",
       "      <td>Kab. Kepahiang</td>\n",
       "      <td>Bengkulu</td>\n",
       "      <td>Area 1</td>\n",
       "      <td>Sumbagsel</td>\n",
       "      <td>4321</td>\n",
       "      <td>31498</td>\n",
       "      <td>68.17</td>\n",
       "      <td>149737</td>\n",
       "      <td>665</td>\n",
       "      <td>403631660</td>\n",
       "      <td>...</td>\n",
       "      <td>20</td>\n",
       "      <td>249101</td>\n",
       "      <td>54865</td>\n",
       "      <td>80981</td>\n",
       "      <td>96905</td>\n",
       "      <td>12</td>\n",
       "      <td>105</td>\n",
       "      <td>225.168421</td>\n",
       "      <td>3149.8</td>\n",
       "      <td>0</td>\n",
       "    </tr>\n",
       "    <tr>\n",
       "      <th>4</th>\n",
       "      <td>Kab. Kerinci</td>\n",
       "      <td>Jambi</td>\n",
       "      <td>Area 1</td>\n",
       "      <td>Sumbagsel</td>\n",
       "      <td>10123</td>\n",
       "      <td>42413</td>\n",
       "      <td>71.21</td>\n",
       "      <td>250259</td>\n",
       "      <td>3355</td>\n",
       "      <td>570389068</td>\n",
       "      <td>...</td>\n",
       "      <td>17</td>\n",
       "      <td>118080</td>\n",
       "      <td>28639</td>\n",
       "      <td>160714</td>\n",
       "      <td>187258</td>\n",
       "      <td>2</td>\n",
       "      <td>285</td>\n",
       "      <td>74.592846</td>\n",
       "      <td>4241.3</td>\n",
       "      <td>15384</td>\n",
       "    </tr>\n",
       "    <tr>\n",
       "      <th>...</th>\n",
       "      <td>...</td>\n",
       "      <td>...</td>\n",
       "      <td>...</td>\n",
       "      <td>...</td>\n",
       "      <td>...</td>\n",
       "      <td>...</td>\n",
       "      <td>...</td>\n",
       "      <td>...</td>\n",
       "      <td>...</td>\n",
       "      <td>...</td>\n",
       "      <td>...</td>\n",
       "      <td>...</td>\n",
       "      <td>...</td>\n",
       "      <td>...</td>\n",
       "      <td>...</td>\n",
       "      <td>...</td>\n",
       "      <td>...</td>\n",
       "      <td>...</td>\n",
       "      <td>...</td>\n",
       "      <td>...</td>\n",
       "      <td>...</td>\n",
       "    </tr>\n",
       "    <tr>\n",
       "      <th>508</th>\n",
       "      <td>Kab. Lembata</td>\n",
       "      <td>Nusa Tenggara Timur</td>\n",
       "      <td>Area 5</td>\n",
       "      <td>Balnus</td>\n",
       "      <td>1859</td>\n",
       "      <td>12993</td>\n",
       "      <td>64.74</td>\n",
       "      <td>135930</td>\n",
       "      <td>1266</td>\n",
       "      <td>445274975</td>\n",
       "      <td>...</td>\n",
       "      <td>37</td>\n",
       "      <td>105130</td>\n",
       "      <td>36745</td>\n",
       "      <td>61162</td>\n",
       "      <td>94187</td>\n",
       "      <td>7</td>\n",
       "      <td>144</td>\n",
       "      <td>107.369668</td>\n",
       "      <td>1299.3</td>\n",
       "      <td>15577</td>\n",
       "    </tr>\n",
       "    <tr>\n",
       "      <th>509</th>\n",
       "      <td>Kab. Lombok Barat</td>\n",
       "      <td>Nusa Tenggara Barat</td>\n",
       "      <td>Area 5</td>\n",
       "      <td>Balnus</td>\n",
       "      <td>15461</td>\n",
       "      <td>22247</td>\n",
       "      <td>68.20</td>\n",
       "      <td>721481</td>\n",
       "      <td>896</td>\n",
       "      <td>730289354</td>\n",
       "      <td>...</td>\n",
       "      <td>100</td>\n",
       "      <td>342531</td>\n",
       "      <td>287120</td>\n",
       "      <td>349526</td>\n",
       "      <td>526440</td>\n",
       "      <td>3</td>\n",
       "      <td>119</td>\n",
       "      <td>805.224330</td>\n",
       "      <td>2224.7</td>\n",
       "      <td>15565</td>\n",
       "    </tr>\n",
       "    <tr>\n",
       "      <th>510</th>\n",
       "      <td>Kab. Rote Ndao</td>\n",
       "      <td>Nusa Tenggara Timur</td>\n",
       "      <td>Area 5</td>\n",
       "      <td>Balnus</td>\n",
       "      <td>3136</td>\n",
       "      <td>18224</td>\n",
       "      <td>62.39</td>\n",
       "      <td>143764</td>\n",
       "      <td>1280</td>\n",
       "      <td>424607949</td>\n",
       "      <td>...</td>\n",
       "      <td>48</td>\n",
       "      <td>129165</td>\n",
       "      <td>44361</td>\n",
       "      <td>61841</td>\n",
       "      <td>96422</td>\n",
       "      <td>7</td>\n",
       "      <td>112</td>\n",
       "      <td>112.315625</td>\n",
       "      <td>1822.4</td>\n",
       "      <td>15580</td>\n",
       "    </tr>\n",
       "    <tr>\n",
       "      <th>511</th>\n",
       "      <td>Kab. Kupang</td>\n",
       "      <td>Nusa Tenggara Timur</td>\n",
       "      <td>Area 5</td>\n",
       "      <td>Balnus</td>\n",
       "      <td>7710</td>\n",
       "      <td>19105</td>\n",
       "      <td>64.32</td>\n",
       "      <td>366383</td>\n",
       "      <td>5434</td>\n",
       "      <td>635495332</td>\n",
       "      <td>...</td>\n",
       "      <td>94</td>\n",
       "      <td>277213</td>\n",
       "      <td>103355</td>\n",
       "      <td>153091</td>\n",
       "      <td>251540</td>\n",
       "      <td>17</td>\n",
       "      <td>160</td>\n",
       "      <td>67.424181</td>\n",
       "      <td>1910.5</td>\n",
       "      <td>15576</td>\n",
       "    </tr>\n",
       "    <tr>\n",
       "      <th>512</th>\n",
       "      <td>Kab. Sumbawa Barat</td>\n",
       "      <td>Nusa Tenggara Barat</td>\n",
       "      <td>Area 5</td>\n",
       "      <td>Balnus</td>\n",
       "      <td>17583</td>\n",
       "      <td>118321</td>\n",
       "      <td>71.63</td>\n",
       "      <td>145798</td>\n",
       "      <td>1849</td>\n",
       "      <td>376608234</td>\n",
       "      <td>...</td>\n",
       "      <td>20</td>\n",
       "      <td>74262</td>\n",
       "      <td>76000</td>\n",
       "      <td>83356</td>\n",
       "      <td>117796</td>\n",
       "      <td>7</td>\n",
       "      <td>57</td>\n",
       "      <td>78.852353</td>\n",
       "      <td>11832.1</td>\n",
       "      <td>0</td>\n",
       "    </tr>\n",
       "  </tbody>\n",
       "</table>\n",
       "<p>513 rows × 22 columns</p>\n",
       "</div>"
      ],
      "text/plain": [
       "          Kota_Kabupaten             Provinsi    Area   Regional   PDRB  \\\n",
       "0      Kota Sungai Penuh                Jambi  Area 1  Sumbagsel   7488   \n",
       "1    Kab. Lampung Tengah              Lampung  Area 1    Lampung  71953   \n",
       "2            Kab. Mesuji              Lampung  Area 1    Lampung  10578   \n",
       "3         Kab. Kepahiang             Bengkulu  Area 1  Sumbagsel   4321   \n",
       "4           Kab. Kerinci                Jambi  Area 1  Sumbagsel  10123   \n",
       "..                   ...                  ...     ...        ...    ...   \n",
       "508         Kab. Lembata  Nusa Tenggara Timur  Area 5     Balnus   1859   \n",
       "509    Kab. Lombok Barat  Nusa Tenggara Barat  Area 5     Balnus  15461   \n",
       "510       Kab. Rote Ndao  Nusa Tenggara Timur  Area 5     Balnus   3136   \n",
       "511          Kab. Kupang  Nusa Tenggara Timur  Area 5     Balnus   7710   \n",
       "512   Kab. Sumbawa Barat  Nusa Tenggara Barat  Area 5     Balnus  17583   \n",
       "\n",
       "     PDRB_Per_Kapita  Indeks_Pembangunan_Manusia  Jumlah_Penduduk  \\\n",
       "0              82367                       75.42            96610   \n",
       "1              56156                       70.16          1460045   \n",
       "2              52835                       63.63           227518   \n",
       "3              31498                       68.17           149737   \n",
       "4              42413                       71.21           250259   \n",
       "..               ...                         ...              ...   \n",
       "508            12993                       64.74           135930   \n",
       "509            22247                       68.20           721481   \n",
       "510            18224                       62.39           143764   \n",
       "511            19105                       64.32           366383   \n",
       "512           118321                       71.63           145798   \n",
       "\n",
       "     Luas_Wilayah  Dana_Alokasi_Umum  ...  Jumlah_Penduduk_Miskin  \\\n",
       "0             391          414326985  ...                       2   \n",
       "1            3802         1259528176  ...                     152   \n",
       "2            2184          410246380  ...                      14   \n",
       "3             665          403631660  ...                      20   \n",
       "4            3355          570389068  ...                      17   \n",
       "..            ...                ...  ...                     ...   \n",
       "508          1266          445274975  ...                      37   \n",
       "509           896          730289354  ...                     100   \n",
       "510          1280          424607949  ...                      48   \n",
       "511          5434          635495332  ...                      94   \n",
       "512          1849          376608234  ...                      20   \n",
       "\n",
       "     Jumlah_Penduduk_Bekerja  Pengguna_Internet  Pemilik_Ponsel  \\\n",
       "0                      41806              46893           59407   \n",
       "1                     662539             943592          759070   \n",
       "2                      95531             132091          114985   \n",
       "3                     249101              54865           80981   \n",
       "4                     118080              28639          160714   \n",
       "..                       ...                ...             ...   \n",
       "508                   105130              36745           61162   \n",
       "509                   342531             287120          349526   \n",
       "510                   129165              44361           61841   \n",
       "511                   277213             103355          153091   \n",
       "512                    74262              76000           83356   \n",
       "\n",
       "     Pengguna_Ponsel  Jumlah_Kelurahan  Jumlah_Desa  Kepadatan_Penduduk  \\\n",
       "0              72385                 4           65          247.084399   \n",
       "1            1115607                10          301          384.020252   \n",
       "2             175374                 0          105          104.174908   \n",
       "3              96905                12          105          225.168421   \n",
       "4             187258                 2          285           74.592846   \n",
       "..               ...               ...          ...                 ...   \n",
       "508            94187                 7          144          107.369668   \n",
       "509           526440                 3          119          805.224330   \n",
       "510            96422                 7          112          112.315625   \n",
       "511           251540                17          160           67.424181   \n",
       "512           117796                 7           57           78.852353   \n",
       "\n",
       "     New_PDRB_Per_Kapita     id  \n",
       "0                 8236.7      0  \n",
       "1                56156.0  15545  \n",
       "2                 5283.5      0  \n",
       "3                 3149.8      0  \n",
       "4                 4241.3  15384  \n",
       "..                   ...    ...  \n",
       "508               1299.3  15577  \n",
       "509               2224.7  15565  \n",
       "510               1822.4  15580  \n",
       "511               1910.5  15576  \n",
       "512              11832.1      0  \n",
       "\n",
       "[513 rows x 22 columns]"
      ]
     },
     "execution_count": 2,
     "metadata": {},
     "output_type": "execute_result"
    }
   ],
   "source": [
    "df = pd.read_excel('Data_Bersih_id.xlsx')\n",
    "df"
   ]
  },
  {
   "cell_type": "code",
   "execution_count": 7,
   "metadata": {
    "colab": {
     "background_save": true
    },
    "id": "ede064fb"
   },
   "outputs": [],
   "source": [
    "# a = df[['Kota_Kabupaten']]\n",
    "# a.to_excel('a.xlsx',index=False)\n",
    "# b = indo_kabkota[['properties.NAME_2','properties.ID_2']]\n",
    "# b.to_excel('b.xlsx',index=False)"
   ]
  },
  {
   "cell_type": "code",
   "execution_count": 3,
   "metadata": {
    "colab": {
     "background_save": true
    },
    "id": "iohABlqI54-8"
   },
   "outputs": [],
   "source": [
    "import plotly.express as px"
   ]
  },
  {
   "cell_type": "code",
   "execution_count": 9,
   "metadata": {
    "id": "af370f7e"
   },
   "outputs": [],
   "source": [
    "# fig=px.choropleth(df,\n",
    "#                   geojson=indo_kabkota_geojson,\n",
    "#                   featureidkey=\"properties.ID_2\",   \n",
    "#                   locations='id',        #column in dataframe\n",
    "#                   color='Indeks_Pembangunan_Manusia',  #dataframe\n",
    "# #                   color_continuous_scale='Inferno',\n",
    "#                   color_continuous_scale=px.colors.diverging.Tealrose,\n",
    "#                   # color_continuous_scale=px.colors.qualitative.Light24,\n",
    "#                   # color_continuous_midpoint=2,\n",
    "#                   # projection='orthographic',\n",
    "#                   hover_name='Kota_Kabupaten',\n",
    "#                   hover_data=[\"Area\"],\n",
    "#                   # title='Jumlah Penduduk Kabupaten' ,  \n",
    "#                   # height=700\n",
    "#                   )\n",
    "# fig.update_geos(fitbounds=\"locations\", visible=False)\n",
    "# # fig.update_layout(margin={\"r\":0,\"t\":0,\"l\":0,\"b\":0})\n",
    "# fig.show()\n",
    "\n",
    "# fig = px.bar(df, x='Kota_Kabupaten', y='Jumlah_Penduduk', \n",
    "#              color='Kota_Kabupaten', width=1200)\n",
    "# fig.show()"
   ]
  },
  {
   "cell_type": "code",
   "execution_count": 10,
   "metadata": {
    "id": "57323c67"
   },
   "outputs": [],
   "source": [
    "# # import plotly.graph_objects as go\n",
    "# # token = \"pk.eyJ1Ijoid2FyaXN0cmloYXJtb2tvIiwiYSI6ImNrcnEwNXhpbzBjM2ozMW44dXJpOXJ2bnoifQ.2LLK5iQUwXY6nXocSQb9sA\"\n",
    "\n",
    "# fig = px.choropleth_mapbox(df, \n",
    "#                            geojson=indo_kabkota_geojson, \n",
    "#                            color=\"Area\",\n",
    "#                            locations=\"id\", \n",
    "#                            featureidkey=\"properties.ID_2\",\n",
    "#                            center={\"lat\": 0.7893, \"lon\":113.9213 },\n",
    "#                            mapbox_style=\"carto-positron\", zoom=3)\n",
    "# fig.update_geos(fitbounds=\"locations\", visible=True)\n",
    "# fig.update_layout(margin={\"r\":0,\"t\":0,\"l\":0,\"b\":0})\n",
    "# fig.show()"
   ]
  },
  {
   "cell_type": "code",
   "execution_count": 14,
   "metadata": {},
   "outputs": [
    {
     "data": {
      "application/vnd.plotly.v1+json": {
       "config": {
        "plotlyServerURL": "https://plot.ly"
       },
       "data": [
        {
         "hovertemplate": "Provinsi=Jambi<br>Regional=Sumbagsel<br>PDRB=%{x}<br>PDRB_Per_Kapita=%{y}<extra></extra>",
         "legendgroup": "Jambi",
         "marker": {
          "color": "rgb(76,114,176)",
          "symbol": "circle"
         },
         "mode": "markers",
         "name": "Jambi",
         "orientation": "v",
         "showlegend": true,
         "type": "scatter",
         "x": [
          7488,
          10123,
          30856,
          43303,
          15377,
          24696,
          14621,
          16466,
          24403,
          18047,
          15356
         ],
         "xaxis": "x13",
         "y": [
          82367,
          42413,
          51024,
          129676,
          39538,
          112263,
          41245,
          60340,
          55041,
          48156,
          50865
         ],
         "yaxis": "y13"
        },
        {
         "hovertemplate": "Provinsi=Lampung<br>Regional=Lampung<br>PDRB=%{x}<br>PDRB_Per_Kapita=%{y}<extra></extra>",
         "legendgroup": "Lampung",
         "marker": {
          "color": "rgb(221,132,82)",
          "symbol": "circle"
         },
         "mode": "markers",
         "name": "Lampung",
         "orientation": "v",
         "showlegend": true,
         "type": "scatter",
         "x": [
          71953,
          10578,
          24124,
          59507,
          4649,
          45108,
          11521,
          23290,
          6365,
          7188,
          11252,
          14124,
          15645,
          16403,
          42541
         ],
         "xaxis": "x14",
         "y": [
          56156,
          52835,
          39105,
          56593,
          30017,
          44605,
          42167,
          51652,
          38023,
          23737,
          28116,
          31379,
          26150,
          36912,
          40736
         ],
         "yaxis": "y14"
        },
        {
         "hovertemplate": "Provinsi=Bengkulu<br>Regional=Sumbagsel<br>PDRB=%{x}<br>PDRB_Per_Kapita=%{y}<extra></extra>",
         "legendgroup": "Bengkulu",
         "marker": {
          "color": "rgb(85,168,104)",
          "symbol": "circle"
         },
         "mode": "markers",
         "name": "Bengkulu",
         "orientation": "v",
         "showlegend": true,
         "type": "scatter",
         "x": [
          4321,
          9370,
          4603,
          3524,
          5701,
          3346,
          23201,
          8253,
          4607,
          5160
         ],
         "xaxis": "x13",
         "y": [
          31498,
          35914,
          23752,
          29075,
          35992,
          28698,
          60241,
          26622,
          40164,
          26613
         ],
         "yaxis": "y13"
        },
        {
         "hovertemplate": "Provinsi=Sumatera Utara<br>Regional=Sumbagut<br>PDRB=%{x}<br>PDRB_Per_Kapita=%{y}<extra></extra>",
         "legendgroup": "Sumatera Utara",
         "marker": {
          "color": "rgb(196,78,82)",
          "symbol": "circle"
         },
         "mode": "markers",
         "name": "Sumatera Utara",
         "orientation": "v",
         "showlegend": true,
         "type": "scatter",
         "x": [
          5514,
          5532,
          241482,
          8951,
          3825,
          6861,
          4435,
          1817,
          38057,
          27959,
          37440,
          6373,
          13545,
          13932,
          3516,
          42515,
          11700,
          7677,
          24378,
          11372,
          1178,
          9166,
          27132,
          5924,
          109334,
          7889,
          11620,
          33610,
          5951,
          9957,
          34048,
          20585
         ],
         "xaxis": "x15",
         "y": [
          38714,
          63127,
          105918,
          51086,
          27562,
          21449,
          35144,
          20955,
          43849,
          45360,
          51303,
          28730,
          30282,
          49418,
          25484,
          40810,
          42300,
          41788,
          67007,
          40435,
          24077,
          32242,
          80041,
          36035,
          49794,
          26141,
          42608,
          68013,
          31292,
          26434,
          81749,
          49497
         ],
         "yaxis": "y15"
        },
        {
         "hovertemplate": "Provinsi=Kepulauan Riau<br>Regional=Sumbagteng<br>PDRB=%{x}<br>PDRB_Per_Kapita=%{y}<extra></extra>",
         "legendgroup": "Kepulauan Riau",
         "marker": {
          "color": "rgb(129,114,179)",
          "symbol": "circle"
         },
         "mode": "markers",
         "name": "Kepulauan Riau",
         "orientation": "v",
         "showlegend": true,
         "type": "scatter",
         "x": [
          21301,
          13537,
          17434,
          4269,
          21791,
          164484,
          20168
         ],
         "xaxis": "x16",
         "y": [
          133630,
          58149,
          412053,
          47552,
          280188,
          119537,
          95319
         ],
         "yaxis": "y16"
        },
        {
         "hovertemplate": "Provinsi=Sumatera Barat<br>Regional=Sumbagteng<br>PDRB=%{x}<br>PDRB_Per_Kapita=%{y}<extra></extra>",
         "legendgroup": "Sumatera Barat",
         "marker": {
          "color": "rgb(147,120,96)",
          "symbol": "circle"
         },
         "mode": "markers",
         "name": "Sumatera Barat",
         "orientation": "v",
         "showlegend": true,
         "type": "scatter",
         "x": [
          6829,
          14045,
          8700,
          62458,
          8909,
          21287,
          13095,
          20549,
          3682,
          13587,
          3477,
          15616,
          5008,
          4050,
          4644,
          9134,
          5575,
          15401,
          10351
         ],
         "xaxis": "x16",
         "y": [
          50368,
          30274,
          66524,
          65685,
          31679,
          51219,
          37607,
          41828,
          58884,
          36386,
          64749,
          40791,
          56591,
          57040,
          50463,
          38477,
          32589,
          34709,
          41810
         ],
         "yaxis": "y16"
        },
        {
         "hovertemplate": "Provinsi=Aceh<br>Regional=Sumbagut<br>PDRB=%{x}<br>PDRB_Per_Kapita=%{y}<extra></extra>",
         "legendgroup": "Aceh",
         "marker": {
          "color": "rgb(218,139,195)",
          "symbol": "circle"
         },
         "mode": "markers",
         "name": "Aceh",
         "orientation": "v",
         "showlegend": true,
         "type": "scatter",
         "x": [
          1533,
          2216,
          5302,
          4945,
          7998,
          10564,
          1727,
          3461,
          5491,
          2403,
          3855,
          7419,
          2576,
          18618,
          13289,
          12956,
          7381,
          2627,
          7473,
          10318,
          4425,
          19778,
          8907
         ],
         "xaxis": "x15",
         "y": [
          43948,
          23765,
          29986,
          22840,
          38066,
          23740,
          21211,
          21470,
          23064,
          19363,
          25631,
          25148,
          27736,
          68872,
          31251,
          27470,
          44118,
          27915,
          35169,
          23662,
          29861,
          31931,
          42987
         ],
         "yaxis": "y15"
        },
        {
         "hovertemplate": "Provinsi=Sumatera Selatan<br>Regional=Sumbagsel<br>PDRB=%{x}<br>PDRB_Per_Kapita=%{y}<extra></extra>",
         "legendgroup": "Sumatera Selatan",
         "marker": {
          "color": "rgb(140,140,140)",
          "symbol": "circle"
         },
         "mode": "markers",
         "name": "Sumatera Selatan",
         "orientation": "v",
         "showlegend": true,
         "type": "scatter",
         "x": [
          154805,
          6657,
          7823,
          57424,
          8817,
          7090,
          14720,
          28688,
          15068,
          11184,
          19077,
          29148,
          4995,
          17175,
          2787,
          66162,
          7111
         ],
         "xaxis": "x13",
         "y": [
          93094,
          28664,
          41872,
          90174,
          24417,
          37362,
          40015,
          33568,
          22264,
          26003,
          47241,
          35126,
          19964,
          41953,
          20024,
          102248,
          37000
         ],
         "yaxis": "y13"
        },
        {
         "hovertemplate": "Provinsi=Riau<br>Regional=Sumbagteng<br>PDRB=%{x}<br>PDRB_Per_Kapita=%{y}<extra></extra>",
         "legendgroup": "Riau",
         "marker": {
          "color": "rgb(204,185,116)",
          "symbol": "circle"
         },
         "mode": "markers",
         "name": "Riau",
         "orientation": "v",
         "showlegend": true,
         "type": "scatter",
         "x": [
          36192,
          119112,
          32122,
          18457,
          62776,
          41659,
          33910,
          77423,
          47909,
          142451,
          82708,
          74714
         ],
         "xaxis": "x16",
         "y": [
          117199,
          104177,
          98138,
          99492,
          84764,
          94296,
          48994,
          88878,
          99063,
          248604,
          168793,
          104569
         ],
         "yaxis": "y16"
        },
        {
         "hovertemplate": "Provinsi=Sumatra Utara<br>Regional=Sumbagut<br>PDRB=%{x}<br>PDRB_Per_Kapita=%{y}<extra></extra>",
         "legendgroup": "Sumatra Utara",
         "marker": {
          "color": "rgb(100,181,205)",
          "symbol": "circle"
         },
         "mode": "markers",
         "name": "Sumatra Utara",
         "orientation": "v",
         "showlegend": true,
         "type": "scatter",
         "x": [
          13933
         ],
         "xaxis": "x15",
         "y": [
          54572
         ],
         "yaxis": "y15"
        },
        {
         "hovertemplate": "Provinsi=Bangka Belitung<br>Regional=Sumbagsel<br>PDRB=%{x}<br>PDRB_Per_Kapita=%{y}<extra></extra>",
         "legendgroup": "Bangka Belitung",
         "marker": {
          "color": "rgb(76,114,176)",
          "symbol": "circle"
         },
         "mode": "markers",
         "name": "Bangka Belitung",
         "orientation": "v",
         "showlegend": true,
         "type": "scatter",
         "x": [
          9870,
          13703,
          7728,
          13794,
          8676,
          14168,
          8579
         ],
         "xaxis": "x13",
         "y": [
          51994,
          64417,
          59644,
          40891,
          41321,
          66466,
          43728
         ],
         "yaxis": "y13"
        },
        {
         "hovertemplate": "Provinsi=Jawa Barat<br>Regional=Jabar<br>PDRB=%{x}<br>PDRB_Per_Kapita=%{y}<extra></extra>",
         "legendgroup": "Jawa Barat",
         "marker": {
          "color": "rgb(221,132,82)",
          "symbol": "circle"
         },
         "mode": "markers",
         "name": "Jawa Barat",
         "orientation": "v",
         "showlegend": true,
         "type": "scatter",
         "x": [
          25090,
          46807,
          30912,
          67406,
          21755,
          35448,
          289312,
          37219,
          11323,
          57579,
          31583,
          32226,
          124001,
          46472,
          23457,
          12384,
          230986,
          49186,
          47180,
          39853,
          4357,
          237113,
          67572,
          71042,
          98209,
          80391,
          327730
         ],
         "xaxis": "x9",
         "y": [
          23215,
          20683,
          25652,
          27331,
          32787,
          30760,
          115361,
          21218,
          28358,
          21956,
          26425,
          52459,
          32846,
          41788,
          73461,
          37678,
          98128,
          22430,
          27755,
          24973,
          23797,
          39748,
          70176,
          29517,
          32694,
          46510,
          87072
         ],
         "yaxis": "y9"
        },
        {
         "hovertemplate": "Provinsi=DKI Jakarta<br>Regional=Jabo Inner<br>PDRB=%{x}<br>PDRB_Per_Kapita=%{y}<extra></extra>",
         "legendgroup": "DKI Jakarta",
         "marker": {
          "color": "rgb(85,168,104)",
          "symbol": "circle"
         },
         "mode": "markers",
         "name": "DKI Jakarta",
         "orientation": "v",
         "showlegend": true,
         "type": "scatter",
         "x": [
          705614,
          648231,
          492191,
          473843,
          525173,
          7969
         ],
         "xaxis": "x10",
         "y": [
          760271,
          286233,
          167534,
          182956,
          289684,
          327998
         ],
         "yaxis": "y10"
        },
        {
         "hovertemplate": "Provinsi=Banten<br>Regional=Jabo Outer<br>PDRB=%{x}<br>PDRB_Per_Kapita=%{y}<extra></extra>",
         "legendgroup": "Banten",
         "marker": {
          "color": "rgb(196,78,82)",
          "symbol": "circle"
         },
         "mode": "markers",
         "name": "Banten",
         "orientation": "v",
         "showlegend": true,
         "type": "scatter",
         "x": [
          28324,
          28918,
          31765,
          76944,
          82840,
          175238,
          104249,
          141088
         ],
         "xaxis": "x11",
         "y": [
          23371,
          22200,
          46130,
          51010,
          47394,
          78585,
          238444,
          37121
         ],
         "yaxis": "y11"
        },
        {
         "hovertemplate": "Provinsi=Jawa Timur<br>Regional=Jatim<br>PDRB=%{x}<br>PDRB_Per_Kapita=%{y}<extra></extra>",
         "legendgroup": "Jawa Timur",
         "marker": {
          "color": "rgb(129,114,179)",
          "symbol": "circle"
         },
         "mode": "markers",
         "name": "Jawa Timur",
         "orientation": "v",
         "showlegend": true,
         "type": "scatter",
         "x": [
          580756,
          204022,
          145920,
          139044,
          103760,
          83607,
          82392,
          78047,
          77234,
          72773,
          65016,
          41205,
          40494,
          39734,
          39215,
          36447,
          34020,
          33299,
          32691,
          26665,
          24676,
          20499,
          20434,
          20220,
          19869,
          19700,
          18932,
          18856,
          18553,
          17043,
          16926,
          15978,
          139253,
          14108,
          11350,
          8289,
          6809,
          6792
         ],
         "xaxis": "x12",
         "y": [
          200524,
          90697,
          89665,
          105907,
          39813,
          51801,
          73716,
          62453,
          31516,
          83581,
          55437,
          26174,
          32041,
          33415,
          37733,
          31402,
          29114,
          30580,
          31362,
          25284,
          25009,
          23525,
          24616,
          29606,
          25614,
          20125,
          27731,
          29979,
          26646,
          19367,
          81575,
          28774,
          484513,
          79705,
          47849,
          41356,
          52780,
          47875
         ],
         "yaxis": "y12"
        },
        {
         "hovertemplate": "Provinsi=Jawa Tengah<br>Regional=Jateng<br>PDRB=%{x}<br>PDRB_Per_Kapita=%{y}<extra></extra>",
         "legendgroup": "Jawa Tengah",
         "marker": {
          "color": "rgb(147,120,96)",
          "symbol": "circle"
         },
         "mode": "markers",
         "name": "Jawa Tengah",
         "orientation": "v",
         "showlegend": true,
         "type": "scatter",
         "x": [
          191547,
          114194,
          110514,
          53949,
          49767,
          46215,
          43064,
          42535,
          39799,
          37836,
          37013,
          36927,
          35232,
          32704,
          32491,
          30231,
          29047,
          27944,
          27291,
          26184,
          25977,
          25483,
          24918,
          22857,
          21657,
          21599,
          21574,
          18934,
          18854,
          18673,
          48003,
          15288,
          13316,
          10874,
          8810
         ],
         "xaxis": "x5",
         "y": [
          105587,
          66119,
          126837,
          31866,
          47226,
          25546,
          34189,
          43802,
          33872,
          42488,
          41751,
          41403,
          24455,
          33209,
          25175,
          24032,
          30273,
          23326,
          19808,
          22518,
          30031,
          19560,
          26679,
          25461,
          28053,
          23397,
          28070,
          29669,
          23851,
          25995,
          92387,
          61174,
          68609,
          35409,
          72146
         ],
         "yaxis": "y5"
        },
        {
         "hovertemplate": "Provinsi=Yogyakarta<br>Regional=Jateng<br>PDRB=%{x}<br>PDRB_Per_Kapita=%{y}<extra></extra>",
         "legendgroup": "Yogyakarta",
         "marker": {
          "color": "rgb(218,139,195)",
          "symbol": "circle"
         },
         "mode": "markers",
         "name": "Yogyakarta",
         "orientation": "v",
         "showlegend": true,
         "type": "scatter",
         "x": [
          47581,
          26345,
          18890,
          12017,
          36599
         ],
         "xaxis": "x5",
         "y": [
          39012,
          25869,
          25433,
          27932,
          84732
         ],
         "yaxis": "y5"
        },
        {
         "hovertemplate": "Provinsi=Sulawesi Selatan<br>Regional=Sulawesi<br>PDRB=%{x}<br>PDRB_Per_Kapita=%{y}<extra></extra>",
         "legendgroup": "Sulawesi Selatan",
         "marker": {
          "color": "rgb(140,140,140)",
          "symbol": "circle"
         },
         "mode": "markers",
         "name": "Sulawesi Selatan",
         "orientation": "v",
         "showlegend": true,
         "type": "scatter",
         "x": [
          14215,
          7271,
          13894,
          10157,
          20939,
          10961,
          10090,
          10937,
          9596,
          8781,
          36035,
          7480,
          6443,
          178430,
          15658,
          19630,
          13047,
          22718,
          7230,
          25990,
          7942,
          7298,
          19839,
          20997
         ],
         "xaxis": "x6",
         "y": [
          33796,
          41711,
          46010,
          34007,
          27099,
          44898,
          27735,
          48184,
          41504,
          46801,
          47502,
          31965,
          47504,
          116875,
          43250,
          52053,
          41700,
          64335,
          49804,
          77464,
          43022,
          35362,
          49870,
          70066
         ],
         "yaxis": "y6"
        },
        {
         "hovertemplate": "Provinsi=Kalimantan Tengah<br>Regional=Kalimantan<br>PDRB=%{x}<br>PDRB_Per_Kapita=%{y}<extra></extra>",
         "legendgroup": "Kalimantan Tengah",
         "marker": {
          "color": "rgb(204,185,116)",
          "symbol": "circle"
         },
         "mode": "markers",
         "name": "Kalimantan Tengah",
         "orientation": "v",
         "showlegend": true,
         "type": "scatter",
         "x": [
          18259,
          5297,
          9801,
          26817,
          8237,
          5743,
          16609,
          6363,
          8280,
          5489,
          7549,
          19335,
          4194,
          8565
         ],
         "xaxis": "x7",
         "y": [
          62601,
          41670,
          74979,
          57502,
          48452,
          47894,
          46289,
          46512,
          68549,
          66385,
          59496,
          61790,
          65175,
          41601
         ],
         "yaxis": "y7"
        },
        {
         "hovertemplate": "Provinsi=Papua<br>Regional=Malpua<br>PDRB=%{x}<br>PDRB_Per_Kapita=%{y}<extra></extra>",
         "legendgroup": "Papua",
         "marker": {
          "color": "rgb(100,181,205)",
          "symbol": "circle"
         },
         "mode": "markers",
         "name": "Papua",
         "orientation": "v",
         "showlegend": true,
         "type": "scatter",
         "x": [
          1216,
          1388,
          1828,
          1221,
          1401,
          2816,
          1164,
          16429,
          16009,
          8340,
          1665,
          1916,
          1310,
          2470,
          2954,
          2420,
          11099,
          1594,
          32607,
          4183,
          2048,
          4240,
          2855,
          4892,
          1407,
          1006,
          5476,
          54832
         ],
         "xaxis": "x8",
         "y": [
          12336,
          18969,
          10210,
          19508,
          12372,
          69494,
          24140,
          124650,
          70398,
          38275,
          69146,
          25275,
          13386,
          25332,
          28595,
          12679,
          73844,
          11461,
          108619,
          23577,
          64974,
          41891,
          50001,
          70677,
          10880,
          48564,
          35932,
          249588
         ],
         "yaxis": "y8"
        },
        {
         "hovertemplate": "Provinsi=Gorontalo<br>Regional=Sulawesi<br>PDRB=%{x}<br>PDRB_Per_Kapita=%{y}<extra></extra>",
         "legendgroup": "Gorontalo",
         "marker": {
          "color": "rgb(76,114,176)",
          "symbol": "circle"
         },
         "mode": "markers",
         "name": "Gorontalo",
         "orientation": "v",
         "showlegend": true,
         "type": "scatter",
         "x": [
          3370,
          12887,
          4579,
          8456,
          6623,
          5413
         ],
         "xaxis": "x6",
         "y": [
          29289,
          34044,
          28402,
          38540,
          41041,
          32406
         ],
         "yaxis": "y6"
        },
        {
         "hovertemplate": "Provinsi=Maluku Utara<br>Regional=Malpua<br>PDRB=%{x}<br>PDRB_Per_Kapita=%{y}<extra></extra>",
         "legendgroup": "Maluku Utara",
         "marker": {
          "color": "rgb(221,132,82)",
          "symbol": "circle"
         },
         "mode": "markers",
         "name": "Maluku Utara",
         "orientation": "v",
         "showlegend": true,
         "type": "scatter",
         "x": [
          2429,
          2261,
          7226,
          3500,
          5623,
          2500,
          1533,
          1452,
          10758,
          2899
         ],
         "xaxis": "x8",
         "y": [
          43595,
          19111,
          30739,
          36841,
          29009,
          24298,
          22782,
          27378,
          46132,
          28587
         ],
         "yaxis": "y8"
        },
        {
         "hovertemplate": "Provinsi=Sulawesi Barat<br>Regional=Sulawesi<br>PDRB=%{x}<br>PDRB_Per_Kapita=%{y}<extra></extra>",
         "legendgroup": "Sulawesi Barat",
         "marker": {
          "color": "rgb(85,168,104)",
          "symbol": "circle"
         },
         "mode": "markers",
         "name": "Sulawesi Barat",
         "orientation": "v",
         "showlegend": true,
         "type": "scatter",
         "x": [
          3154,
          13369,
          4973,
          2974,
          11731,
          10216
         ],
         "xaxis": "x6",
         "y": [
          23531,
          30208,
          28601,
          18364,
          39993,
          58552
         ],
         "yaxis": "y6"
        },
        {
         "hovertemplate": "Provinsi=Kalimantan Utara<br>Regional=Kalimantan<br>PDRB=%{x}<br>PDRB_Per_Kapita=%{y}<extra></extra>",
         "legendgroup": "Kalimantan Utara",
         "marker": {
          "color": "rgb(196,78,82)",
          "symbol": "circle"
         },
         "mode": "markers",
         "name": "Kalimantan Utara",
         "orientation": "v",
         "showlegend": true,
         "type": "scatter",
         "x": [
          36290,
          18265,
          10646,
          25420,
          5786
         ],
         "xaxis": "x7",
         "y": [
          133963,
          128514,
          117790,
          121093,
          200017
         ],
         "yaxis": "y7"
        },
        {
         "hovertemplate": "Provinsi=Sulawesi Tengah<br>Regional=Sulawesi<br>PDRB=%{x}<br>PDRB_Per_Kapita=%{y}<extra></extra>",
         "legendgroup": "Sulawesi Tengah",
         "marker": {
          "color": "rgb(129,114,179)",
          "symbol": "circle"
         },
         "mode": "markers",
         "name": "Sulawesi Tengah",
         "orientation": "v",
         "showlegend": true,
         "type": "scatter",
         "x": [
          30513,
          24327,
          4037,
          11767,
          24816,
          8545,
          2437,
          18729,
          9506,
          5713,
          8987,
          12261,
          5885
         ],
         "xaxis": "x6",
         "y": [
          80976,
          200561,
          34096,
          91700,
          63405,
          36239,
          32493,
          38151,
          37075,
          37099,
          37537,
          40317,
          36289
         ],
         "yaxis": "y6"
        },
        {
         "hovertemplate": "Provinsi=Sulawesi Tenggara<br>Regional=Sulawesi<br>PDRB=%{x}<br>PDRB_Per_Kapita=%{y}<extra></extra>",
         "legendgroup": "Sulawesi Tenggara",
         "marker": {
          "color": "rgb(147,120,96)",
          "symbol": "circle"
         },
         "mode": "markers",
         "name": "Sulawesi Tenggara",
         "orientation": "v",
         "showlegend": true,
         "type": "scatter",
         "x": [
          6929,
          4357,
          26456,
          2370,
          2937,
          8674,
          12105,
          1384,
          9044,
          9013,
          3132,
          3926,
          22245,
          4427,
          3806,
          6431,
          2589
         ],
         "xaxis": "x6",
         "y": [
          41466,
          45433,
          130900,
          25456,
          36356,
          57511,
          38455,
          40457,
          52644,
          35386,
          48880,
          61524,
          56628,
          22953,
          37087,
          34841,
          18676
         ],
         "yaxis": "y6"
        },
        {
         "hovertemplate": "Provinsi=Sulawesi Utara<br>Regional=Sulawesi<br>PDRB=%{x}<br>PDRB_Per_Kapita=%{y}<extra></extra>",
         "legendgroup": "Sulawesi Utara",
         "marker": {
          "color": "rgb(218,139,195)",
          "symbol": "circle"
         },
         "mode": "markers",
         "name": "Sulawesi Utara",
         "orientation": "v",
         "showlegend": true,
         "type": "scatter",
         "x": [
          2367,
          37387,
          13819,
          2879,
          8010,
          3695,
          2084,
          4248,
          5112,
          8601,
          2488,
          17120,
          4291,
          2210,
          16309
         ],
         "xaxis": "x6",
         "y": [
          35642,
          86217,
          67864,
          39761,
          32325,
          28777,
          31540,
          32388,
          47821,
          40824,
          30976,
          50178,
          40139,
          23902,
          74470
         ],
         "yaxis": "y6"
        },
        {
         "hovertemplate": "Provinsi=Kalimantan Barat<br>Regional=Kalimantan<br>PDRB=%{x}<br>PDRB_Per_Kapita=%{y}<extra></extra>",
         "legendgroup": "Kalimantan Barat",
         "marker": {
          "color": "rgb(140,140,140)",
          "symbol": "circle"
         },
         "mode": "markers",
         "name": "Kalimantan Barat",
         "orientation": "v",
         "showlegend": true,
         "type": "scatter",
         "x": [
          27509,
          29116,
          6449,
          8304,
          4144,
          20583,
          14726,
          10286,
          10583,
          8729,
          5187,
          38932,
          19271,
          10256
         ],
         "xaxis": "x7",
         "y": [
          53646,
          50258,
          31995,
          31427,
          36761,
          38422,
          35163,
          39078,
          28050,
          34195,
          24885,
          60205,
          40982,
          46009
         ],
         "yaxis": "y7"
        },
        {
         "hovertemplate": "Provinsi=Papua Barat<br>Regional=Malpua<br>PDRB=%{x}<br>PDRB_Per_Kapita=%{y}<extra></extra>",
         "legendgroup": "Papua Barat",
         "marker": {
          "color": "rgb(204,185,116)",
          "symbol": "circle"
         },
         "mode": "markers",
         "name": "Papua Barat",
         "orientation": "v",
         "showlegend": true,
         "type": "scatter",
         "x": [
          236,
          737,
          5316,
          1915,
          10078,
          1563,
          15865,
          2788,
          835,
          198,
          31392,
          2949,
          11082
         ],
         "xaxis": "x8",
         "y": [
          17018,
          18029,
          67562,
          40807,
          57532,
          48053,
          62389,
          46303,
          34486,
          6398,
          487415,
          60811,
          124617
         ],
         "yaxis": "y8"
        },
        {
         "hovertemplate": "Provinsi=Maluku<br>Regional=Malpua<br>PDRB=%{x}<br>PDRB_Per_Kapita=%{y}<extra></extra>",
         "legendgroup": "Maluku",
         "marker": {
          "color": "rgb(100,181,205)",
          "symbol": "circle"
         },
         "mode": "markers",
         "name": "Maluku",
         "orientation": "v",
         "showlegend": true,
         "type": "scatter",
         "x": [
          2687,
          3231,
          1656,
          3002,
          8673,
          1406,
          3476,
          2458,
          2905,
          2404,
          14839
         ],
         "xaxis": "x8",
         "y": [
          23778,
          32374,
          22646,
          17497,
          23228,
          22205,
          36167,
          32527,
          25328,
          16731,
          31003
         ],
         "yaxis": "y8"
        },
        {
         "hovertemplate": "Provinsi=Kalimantan Selatan<br>Regional=Kalimantan<br>PDRB=%{x}<br>PDRB_Per_Kapita=%{y}<extra></extra>",
         "legendgroup": "Kalimantan Selatan",
         "marker": {
          "color": "rgb(76,114,176)",
          "symbol": "circle"
         },
         "mode": "markers",
         "name": "Kalimantan Selatan",
         "orientation": "v",
         "showlegend": true,
         "type": "scatter",
         "x": [
          11040,
          16615,
          8714,
          6604,
          7058,
          4954,
          24180,
          18047,
          20065,
          13930,
          8372,
          9744,
          33042
         ],
         "xaxis": "x7",
         "y": [
          84003,
          28254,
          27787,
          27783,
          25909,
          20854,
          70658,
          70961,
          55707,
          40507,
          43747,
          37088,
          46630
         ],
         "yaxis": "y7"
        },
        {
         "hovertemplate": "Provinsi=Kalimantan Timur<br>Regional=Kalimantan<br>PDRB=%{x}<br>PDRB_Per_Kapita=%{y}<extra></extra>",
         "legendgroup": "Kalimantan Timur",
         "marker": {
          "color": "rgb(221,132,82)",
          "symbol": "circle"
         },
         "mode": "markers",
         "name": "Kalimantan Timur",
         "orientation": "v",
         "showlegend": true,
         "type": "scatter",
         "x": [
          39051,
          28865,
          162739,
          133725,
          2718,
          48176,
          9087,
          102389,
          58479,
          68571
         ],
         "xaxis": "x7",
         "y": [
          168114,
          195009,
          207015,
          355547,
          103062,
          168509,
          56475,
          156277,
          329050,
          78567
         ],
         "yaxis": "y7"
        },
        {
         "hovertemplate": "Provinsi=Nusa Tenggara Timur<br>Regional=Balnus<br>PDRB=%{x}<br>PDRB_Per_Kapita=%{y}<extra></extra>",
         "legendgroup": "Nusa Tenggara Timur",
         "marker": {
          "color": "rgb(85,168,104)",
          "symbol": "circle"
         },
         "mode": "markers",
         "name": "Nusa Tenggara Timur",
         "orientation": "v",
         "showlegend": true,
         "type": "scatter",
         "x": [
          7938,
          5124,
          4481,
          3055,
          3212,
          6107,
          4680,
          2334,
          1177,
          5252,
          2778,
          6257,
          24559,
          2241,
          4083,
          3467,
          3474,
          1424,
          3755,
          1859,
          3136,
          7710
         ],
         "xaxis": "x",
         "y": [
          16963,
          15992,
          20356,
          14860,
          11183,
          22294,
          13828,
          17998,
          16168,
          20523,
          14475,
          24207,
          56462,
          15367,
          16066,
          12621,
          21284,
          14623,
          10893,
          12993,
          18224,
          19105
         ],
         "yaxis": "y"
        },
        {
         "hovertemplate": "Provinsi=Bali<br>Regional=Balnus<br>PDRB=%{x}<br>PDRB_Per_Kapita=%{y}<extra></extra>",
         "legendgroup": "Bali",
         "marker": {
          "color": "rgb(196,78,82)",
          "symbol": "circle"
         },
         "mode": "markers",
         "name": "Bali",
         "orientation": "v",
         "showlegend": true,
         "type": "scatter",
         "x": [
          9120,
          6999,
          35509,
          23886,
          28581,
          17107,
          62795,
          14162,
          55676
         ],
         "xaxis": "x",
         "y": [
          50927,
          30794,
          53756,
          53590,
          55804,
          41060,
          93692,
          50919,
          58785
         ],
         "yaxis": "y"
        },
        {
         "hovertemplate": "Provinsi=Nusa Tenggara Barat<br>Regional=Balnus<br>PDRB=%{x}<br>PDRB_Per_Kapita=%{y}<extra></extra>",
         "legendgroup": "Nusa Tenggara Barat",
         "marker": {
          "color": "rgb(129,114,179)",
          "symbol": "circle"
         },
         "mode": "markers",
         "name": "Nusa Tenggara Barat",
         "orientation": "v",
         "showlegend": true,
         "type": "scatter",
         "x": [
          14811,
          19484,
          20306,
          11645,
          7173,
          4274,
          17881,
          4868,
          15461,
          17583
         ],
         "xaxis": "x",
         "y": [
          32363,
          40032,
          16913,
          23834,
          28433,
          24699,
          18872,
          22085,
          22247,
          118321
         ],
         "yaxis": "y"
        }
       ],
       "layout": {
        "annotations": [
         {
          "font": {},
          "showarrow": false,
          "text": "Regional=Balnus",
          "x": 0.1175,
          "xanchor": "center",
          "xref": "paper",
          "y": 0.1975,
          "yanchor": "bottom",
          "yref": "paper"
         },
         {
          "font": {},
          "showarrow": false,
          "text": "Regional=Jateng",
          "x": 0.1175,
          "xanchor": "center",
          "xref": "paper",
          "y": 0.465,
          "yanchor": "bottom",
          "yref": "paper"
         },
         {
          "font": {},
          "showarrow": false,
          "text": "Regional=Sulawesi",
          "x": 0.3725,
          "xanchor": "center",
          "xref": "paper",
          "y": 0.465,
          "yanchor": "bottom",
          "yref": "paper"
         },
         {
          "font": {},
          "showarrow": false,
          "text": "Regional=Kalimantan",
          "x": 0.6275,
          "xanchor": "center",
          "xref": "paper",
          "y": 0.465,
          "yanchor": "bottom",
          "yref": "paper"
         },
         {
          "font": {},
          "showarrow": false,
          "text": "Regional=Malpua",
          "x": 0.8824999999999998,
          "xanchor": "center",
          "xref": "paper",
          "y": 0.465,
          "yanchor": "bottom",
          "yref": "paper"
         },
         {
          "font": {},
          "showarrow": false,
          "text": "Regional=Jabar",
          "x": 0.1175,
          "xanchor": "center",
          "xref": "paper",
          "y": 0.7325,
          "yanchor": "bottom",
          "yref": "paper"
         },
         {
          "font": {},
          "showarrow": false,
          "text": "Regional=Jabo Inner",
          "x": 0.3725,
          "xanchor": "center",
          "xref": "paper",
          "y": 0.7325,
          "yanchor": "bottom",
          "yref": "paper"
         },
         {
          "font": {},
          "showarrow": false,
          "text": "Regional=Jabo Outer",
          "x": 0.6275,
          "xanchor": "center",
          "xref": "paper",
          "y": 0.7325,
          "yanchor": "bottom",
          "yref": "paper"
         },
         {
          "font": {},
          "showarrow": false,
          "text": "Regional=Jatim",
          "x": 0.8824999999999998,
          "xanchor": "center",
          "xref": "paper",
          "y": 0.7325,
          "yanchor": "bottom",
          "yref": "paper"
         },
         {
          "font": {},
          "showarrow": false,
          "text": "Regional=Sumbagsel",
          "x": 0.1175,
          "xanchor": "center",
          "xref": "paper",
          "y": 1,
          "yanchor": "bottom",
          "yref": "paper"
         },
         {
          "font": {},
          "showarrow": false,
          "text": "Regional=Lampung",
          "x": 0.3725,
          "xanchor": "center",
          "xref": "paper",
          "y": 1,
          "yanchor": "bottom",
          "yref": "paper"
         },
         {
          "font": {},
          "showarrow": false,
          "text": "Regional=Sumbagut",
          "x": 0.6275,
          "xanchor": "center",
          "xref": "paper",
          "y": 1,
          "yanchor": "bottom",
          "yref": "paper"
         },
         {
          "font": {},
          "showarrow": false,
          "text": "Regional=Sumbagteng",
          "x": 0.8824999999999998,
          "xanchor": "center",
          "xref": "paper",
          "y": 1,
          "yanchor": "bottom",
          "yref": "paper"
         }
        ],
        "legend": {
         "title": {
          "text": "Provinsi"
         },
         "tracegroupgap": 0
        },
        "margin": {
         "t": 60
        },
        "template": {
         "data": {
          "bar": [
           {
            "error_x": {
             "color": "rgb(36,36,36)"
            },
            "error_y": {
             "color": "rgb(36,36,36)"
            },
            "marker": {
             "line": {
              "color": "rgb(234,234,242)",
              "width": 0.5
             }
            },
            "type": "bar"
           }
          ],
          "barpolar": [
           {
            "marker": {
             "line": {
              "color": "rgb(234,234,242)",
              "width": 0.5
             }
            },
            "type": "barpolar"
           }
          ],
          "carpet": [
           {
            "aaxis": {
             "endlinecolor": "rgb(36,36,36)",
             "gridcolor": "white",
             "linecolor": "white",
             "minorgridcolor": "white",
             "startlinecolor": "rgb(36,36,36)"
            },
            "baxis": {
             "endlinecolor": "rgb(36,36,36)",
             "gridcolor": "white",
             "linecolor": "white",
             "minorgridcolor": "white",
             "startlinecolor": "rgb(36,36,36)"
            },
            "type": "carpet"
           }
          ],
          "choropleth": [
           {
            "colorbar": {
             "outlinewidth": 0,
             "tickcolor": "rgb(36,36,36)",
             "ticklen": 8,
             "ticks": "outside",
             "tickwidth": 2
            },
            "type": "choropleth"
           }
          ],
          "contour": [
           {
            "colorbar": {
             "outlinewidth": 0,
             "tickcolor": "rgb(36,36,36)",
             "ticklen": 8,
             "ticks": "outside",
             "tickwidth": 2
            },
            "colorscale": [
             [
              0,
              "rgb(2,4,25)"
             ],
             [
              0.06274509803921569,
              "rgb(24,15,41)"
             ],
             [
              0.12549019607843137,
              "rgb(47,23,57)"
             ],
             [
              0.18823529411764706,
              "rgb(71,28,72)"
             ],
             [
              0.25098039215686274,
              "rgb(97,30,82)"
             ],
             [
              0.3137254901960784,
              "rgb(123,30,89)"
             ],
             [
              0.3764705882352941,
              "rgb(150,27,91)"
             ],
             [
              0.4392156862745098,
              "rgb(177,22,88)"
             ],
             [
              0.5019607843137255,
              "rgb(203,26,79)"
             ],
             [
              0.5647058823529412,
              "rgb(223,47,67)"
             ],
             [
              0.6274509803921569,
              "rgb(236,76,61)"
             ],
             [
              0.6901960784313725,
              "rgb(242,107,73)"
             ],
             [
              0.7529411764705882,
              "rgb(244,135,95)"
             ],
             [
              0.8156862745098039,
              "rgb(245,162,122)"
             ],
             [
              0.8784313725490196,
              "rgb(246,188,153)"
             ],
             [
              0.9411764705882353,
              "rgb(247,212,187)"
             ],
             [
              1,
              "rgb(250,234,220)"
             ]
            ],
            "type": "contour"
           }
          ],
          "contourcarpet": [
           {
            "colorbar": {
             "outlinewidth": 0,
             "tickcolor": "rgb(36,36,36)",
             "ticklen": 8,
             "ticks": "outside",
             "tickwidth": 2
            },
            "type": "contourcarpet"
           }
          ],
          "heatmap": [
           {
            "colorbar": {
             "outlinewidth": 0,
             "tickcolor": "rgb(36,36,36)",
             "ticklen": 8,
             "ticks": "outside",
             "tickwidth": 2
            },
            "colorscale": [
             [
              0,
              "rgb(2,4,25)"
             ],
             [
              0.06274509803921569,
              "rgb(24,15,41)"
             ],
             [
              0.12549019607843137,
              "rgb(47,23,57)"
             ],
             [
              0.18823529411764706,
              "rgb(71,28,72)"
             ],
             [
              0.25098039215686274,
              "rgb(97,30,82)"
             ],
             [
              0.3137254901960784,
              "rgb(123,30,89)"
             ],
             [
              0.3764705882352941,
              "rgb(150,27,91)"
             ],
             [
              0.4392156862745098,
              "rgb(177,22,88)"
             ],
             [
              0.5019607843137255,
              "rgb(203,26,79)"
             ],
             [
              0.5647058823529412,
              "rgb(223,47,67)"
             ],
             [
              0.6274509803921569,
              "rgb(236,76,61)"
             ],
             [
              0.6901960784313725,
              "rgb(242,107,73)"
             ],
             [
              0.7529411764705882,
              "rgb(244,135,95)"
             ],
             [
              0.8156862745098039,
              "rgb(245,162,122)"
             ],
             [
              0.8784313725490196,
              "rgb(246,188,153)"
             ],
             [
              0.9411764705882353,
              "rgb(247,212,187)"
             ],
             [
              1,
              "rgb(250,234,220)"
             ]
            ],
            "type": "heatmap"
           }
          ],
          "heatmapgl": [
           {
            "colorbar": {
             "outlinewidth": 0,
             "tickcolor": "rgb(36,36,36)",
             "ticklen": 8,
             "ticks": "outside",
             "tickwidth": 2
            },
            "colorscale": [
             [
              0,
              "rgb(2,4,25)"
             ],
             [
              0.06274509803921569,
              "rgb(24,15,41)"
             ],
             [
              0.12549019607843137,
              "rgb(47,23,57)"
             ],
             [
              0.18823529411764706,
              "rgb(71,28,72)"
             ],
             [
              0.25098039215686274,
              "rgb(97,30,82)"
             ],
             [
              0.3137254901960784,
              "rgb(123,30,89)"
             ],
             [
              0.3764705882352941,
              "rgb(150,27,91)"
             ],
             [
              0.4392156862745098,
              "rgb(177,22,88)"
             ],
             [
              0.5019607843137255,
              "rgb(203,26,79)"
             ],
             [
              0.5647058823529412,
              "rgb(223,47,67)"
             ],
             [
              0.6274509803921569,
              "rgb(236,76,61)"
             ],
             [
              0.6901960784313725,
              "rgb(242,107,73)"
             ],
             [
              0.7529411764705882,
              "rgb(244,135,95)"
             ],
             [
              0.8156862745098039,
              "rgb(245,162,122)"
             ],
             [
              0.8784313725490196,
              "rgb(246,188,153)"
             ],
             [
              0.9411764705882353,
              "rgb(247,212,187)"
             ],
             [
              1,
              "rgb(250,234,220)"
             ]
            ],
            "type": "heatmapgl"
           }
          ],
          "histogram": [
           {
            "marker": {
             "colorbar": {
              "outlinewidth": 0,
              "tickcolor": "rgb(36,36,36)",
              "ticklen": 8,
              "ticks": "outside",
              "tickwidth": 2
             }
            },
            "type": "histogram"
           }
          ],
          "histogram2d": [
           {
            "colorbar": {
             "outlinewidth": 0,
             "tickcolor": "rgb(36,36,36)",
             "ticklen": 8,
             "ticks": "outside",
             "tickwidth": 2
            },
            "colorscale": [
             [
              0,
              "rgb(2,4,25)"
             ],
             [
              0.06274509803921569,
              "rgb(24,15,41)"
             ],
             [
              0.12549019607843137,
              "rgb(47,23,57)"
             ],
             [
              0.18823529411764706,
              "rgb(71,28,72)"
             ],
             [
              0.25098039215686274,
              "rgb(97,30,82)"
             ],
             [
              0.3137254901960784,
              "rgb(123,30,89)"
             ],
             [
              0.3764705882352941,
              "rgb(150,27,91)"
             ],
             [
              0.4392156862745098,
              "rgb(177,22,88)"
             ],
             [
              0.5019607843137255,
              "rgb(203,26,79)"
             ],
             [
              0.5647058823529412,
              "rgb(223,47,67)"
             ],
             [
              0.6274509803921569,
              "rgb(236,76,61)"
             ],
             [
              0.6901960784313725,
              "rgb(242,107,73)"
             ],
             [
              0.7529411764705882,
              "rgb(244,135,95)"
             ],
             [
              0.8156862745098039,
              "rgb(245,162,122)"
             ],
             [
              0.8784313725490196,
              "rgb(246,188,153)"
             ],
             [
              0.9411764705882353,
              "rgb(247,212,187)"
             ],
             [
              1,
              "rgb(250,234,220)"
             ]
            ],
            "type": "histogram2d"
           }
          ],
          "histogram2dcontour": [
           {
            "colorbar": {
             "outlinewidth": 0,
             "tickcolor": "rgb(36,36,36)",
             "ticklen": 8,
             "ticks": "outside",
             "tickwidth": 2
            },
            "colorscale": [
             [
              0,
              "rgb(2,4,25)"
             ],
             [
              0.06274509803921569,
              "rgb(24,15,41)"
             ],
             [
              0.12549019607843137,
              "rgb(47,23,57)"
             ],
             [
              0.18823529411764706,
              "rgb(71,28,72)"
             ],
             [
              0.25098039215686274,
              "rgb(97,30,82)"
             ],
             [
              0.3137254901960784,
              "rgb(123,30,89)"
             ],
             [
              0.3764705882352941,
              "rgb(150,27,91)"
             ],
             [
              0.4392156862745098,
              "rgb(177,22,88)"
             ],
             [
              0.5019607843137255,
              "rgb(203,26,79)"
             ],
             [
              0.5647058823529412,
              "rgb(223,47,67)"
             ],
             [
              0.6274509803921569,
              "rgb(236,76,61)"
             ],
             [
              0.6901960784313725,
              "rgb(242,107,73)"
             ],
             [
              0.7529411764705882,
              "rgb(244,135,95)"
             ],
             [
              0.8156862745098039,
              "rgb(245,162,122)"
             ],
             [
              0.8784313725490196,
              "rgb(246,188,153)"
             ],
             [
              0.9411764705882353,
              "rgb(247,212,187)"
             ],
             [
              1,
              "rgb(250,234,220)"
             ]
            ],
            "type": "histogram2dcontour"
           }
          ],
          "mesh3d": [
           {
            "colorbar": {
             "outlinewidth": 0,
             "tickcolor": "rgb(36,36,36)",
             "ticklen": 8,
             "ticks": "outside",
             "tickwidth": 2
            },
            "type": "mesh3d"
           }
          ],
          "parcoords": [
           {
            "line": {
             "colorbar": {
              "outlinewidth": 0,
              "tickcolor": "rgb(36,36,36)",
              "ticklen": 8,
              "ticks": "outside",
              "tickwidth": 2
             }
            },
            "type": "parcoords"
           }
          ],
          "pie": [
           {
            "automargin": true,
            "type": "pie"
           }
          ],
          "scatter": [
           {
            "marker": {
             "colorbar": {
              "outlinewidth": 0,
              "tickcolor": "rgb(36,36,36)",
              "ticklen": 8,
              "ticks": "outside",
              "tickwidth": 2
             }
            },
            "type": "scatter"
           }
          ],
          "scatter3d": [
           {
            "line": {
             "colorbar": {
              "outlinewidth": 0,
              "tickcolor": "rgb(36,36,36)",
              "ticklen": 8,
              "ticks": "outside",
              "tickwidth": 2
             }
            },
            "marker": {
             "colorbar": {
              "outlinewidth": 0,
              "tickcolor": "rgb(36,36,36)",
              "ticklen": 8,
              "ticks": "outside",
              "tickwidth": 2
             }
            },
            "type": "scatter3d"
           }
          ],
          "scattercarpet": [
           {
            "marker": {
             "colorbar": {
              "outlinewidth": 0,
              "tickcolor": "rgb(36,36,36)",
              "ticklen": 8,
              "ticks": "outside",
              "tickwidth": 2
             }
            },
            "type": "scattercarpet"
           }
          ],
          "scattergeo": [
           {
            "marker": {
             "colorbar": {
              "outlinewidth": 0,
              "tickcolor": "rgb(36,36,36)",
              "ticklen": 8,
              "ticks": "outside",
              "tickwidth": 2
             }
            },
            "type": "scattergeo"
           }
          ],
          "scattergl": [
           {
            "marker": {
             "colorbar": {
              "outlinewidth": 0,
              "tickcolor": "rgb(36,36,36)",
              "ticklen": 8,
              "ticks": "outside",
              "tickwidth": 2
             }
            },
            "type": "scattergl"
           }
          ],
          "scattermapbox": [
           {
            "marker": {
             "colorbar": {
              "outlinewidth": 0,
              "tickcolor": "rgb(36,36,36)",
              "ticklen": 8,
              "ticks": "outside",
              "tickwidth": 2
             }
            },
            "type": "scattermapbox"
           }
          ],
          "scatterpolar": [
           {
            "marker": {
             "colorbar": {
              "outlinewidth": 0,
              "tickcolor": "rgb(36,36,36)",
              "ticklen": 8,
              "ticks": "outside",
              "tickwidth": 2
             }
            },
            "type": "scatterpolar"
           }
          ],
          "scatterpolargl": [
           {
            "marker": {
             "colorbar": {
              "outlinewidth": 0,
              "tickcolor": "rgb(36,36,36)",
              "ticklen": 8,
              "ticks": "outside",
              "tickwidth": 2
             }
            },
            "type": "scatterpolargl"
           }
          ],
          "scatterternary": [
           {
            "marker": {
             "colorbar": {
              "outlinewidth": 0,
              "tickcolor": "rgb(36,36,36)",
              "ticklen": 8,
              "ticks": "outside",
              "tickwidth": 2
             }
            },
            "type": "scatterternary"
           }
          ],
          "surface": [
           {
            "colorbar": {
             "outlinewidth": 0,
             "tickcolor": "rgb(36,36,36)",
             "ticklen": 8,
             "ticks": "outside",
             "tickwidth": 2
            },
            "colorscale": [
             [
              0,
              "rgb(2,4,25)"
             ],
             [
              0.06274509803921569,
              "rgb(24,15,41)"
             ],
             [
              0.12549019607843137,
              "rgb(47,23,57)"
             ],
             [
              0.18823529411764706,
              "rgb(71,28,72)"
             ],
             [
              0.25098039215686274,
              "rgb(97,30,82)"
             ],
             [
              0.3137254901960784,
              "rgb(123,30,89)"
             ],
             [
              0.3764705882352941,
              "rgb(150,27,91)"
             ],
             [
              0.4392156862745098,
              "rgb(177,22,88)"
             ],
             [
              0.5019607843137255,
              "rgb(203,26,79)"
             ],
             [
              0.5647058823529412,
              "rgb(223,47,67)"
             ],
             [
              0.6274509803921569,
              "rgb(236,76,61)"
             ],
             [
              0.6901960784313725,
              "rgb(242,107,73)"
             ],
             [
              0.7529411764705882,
              "rgb(244,135,95)"
             ],
             [
              0.8156862745098039,
              "rgb(245,162,122)"
             ],
             [
              0.8784313725490196,
              "rgb(246,188,153)"
             ],
             [
              0.9411764705882353,
              "rgb(247,212,187)"
             ],
             [
              1,
              "rgb(250,234,220)"
             ]
            ],
            "type": "surface"
           }
          ],
          "table": [
           {
            "cells": {
             "fill": {
              "color": "rgb(231,231,240)"
             },
             "line": {
              "color": "white"
             }
            },
            "header": {
             "fill": {
              "color": "rgb(183,183,191)"
             },
             "line": {
              "color": "white"
             }
            },
            "type": "table"
           }
          ]
         },
         "layout": {
          "annotationdefaults": {
           "arrowcolor": "rgb(67,103,167)"
          },
          "coloraxis": {
           "colorbar": {
            "outlinewidth": 0,
            "tickcolor": "rgb(36,36,36)",
            "ticklen": 8,
            "ticks": "outside",
            "tickwidth": 2
           }
          },
          "colorscale": {
           "sequential": [
            [
             0,
             "rgb(2,4,25)"
            ],
            [
             0.06274509803921569,
             "rgb(24,15,41)"
            ],
            [
             0.12549019607843137,
             "rgb(47,23,57)"
            ],
            [
             0.18823529411764706,
             "rgb(71,28,72)"
            ],
            [
             0.25098039215686274,
             "rgb(97,30,82)"
            ],
            [
             0.3137254901960784,
             "rgb(123,30,89)"
            ],
            [
             0.3764705882352941,
             "rgb(150,27,91)"
            ],
            [
             0.4392156862745098,
             "rgb(177,22,88)"
            ],
            [
             0.5019607843137255,
             "rgb(203,26,79)"
            ],
            [
             0.5647058823529412,
             "rgb(223,47,67)"
            ],
            [
             0.6274509803921569,
             "rgb(236,76,61)"
            ],
            [
             0.6901960784313725,
             "rgb(242,107,73)"
            ],
            [
             0.7529411764705882,
             "rgb(244,135,95)"
            ],
            [
             0.8156862745098039,
             "rgb(245,162,122)"
            ],
            [
             0.8784313725490196,
             "rgb(246,188,153)"
            ],
            [
             0.9411764705882353,
             "rgb(247,212,187)"
            ],
            [
             1,
             "rgb(250,234,220)"
            ]
           ],
           "sequentialminus": [
            [
             0,
             "rgb(2,4,25)"
            ],
            [
             0.06274509803921569,
             "rgb(24,15,41)"
            ],
            [
             0.12549019607843137,
             "rgb(47,23,57)"
            ],
            [
             0.18823529411764706,
             "rgb(71,28,72)"
            ],
            [
             0.25098039215686274,
             "rgb(97,30,82)"
            ],
            [
             0.3137254901960784,
             "rgb(123,30,89)"
            ],
            [
             0.3764705882352941,
             "rgb(150,27,91)"
            ],
            [
             0.4392156862745098,
             "rgb(177,22,88)"
            ],
            [
             0.5019607843137255,
             "rgb(203,26,79)"
            ],
            [
             0.5647058823529412,
             "rgb(223,47,67)"
            ],
            [
             0.6274509803921569,
             "rgb(236,76,61)"
            ],
            [
             0.6901960784313725,
             "rgb(242,107,73)"
            ],
            [
             0.7529411764705882,
             "rgb(244,135,95)"
            ],
            [
             0.8156862745098039,
             "rgb(245,162,122)"
            ],
            [
             0.8784313725490196,
             "rgb(246,188,153)"
            ],
            [
             0.9411764705882353,
             "rgb(247,212,187)"
            ],
            [
             1,
             "rgb(250,234,220)"
            ]
           ]
          },
          "colorway": [
           "rgb(76,114,176)",
           "rgb(221,132,82)",
           "rgb(85,168,104)",
           "rgb(196,78,82)",
           "rgb(129,114,179)",
           "rgb(147,120,96)",
           "rgb(218,139,195)",
           "rgb(140,140,140)",
           "rgb(204,185,116)",
           "rgb(100,181,205)"
          ],
          "font": {
           "color": "rgb(36,36,36)"
          },
          "geo": {
           "bgcolor": "white",
           "lakecolor": "white",
           "landcolor": "rgb(234,234,242)",
           "showlakes": true,
           "showland": true,
           "subunitcolor": "white"
          },
          "hoverlabel": {
           "align": "left"
          },
          "hovermode": "closest",
          "paper_bgcolor": "white",
          "plot_bgcolor": "rgb(234,234,242)",
          "polar": {
           "angularaxis": {
            "gridcolor": "white",
            "linecolor": "white",
            "showgrid": true,
            "ticks": ""
           },
           "bgcolor": "rgb(234,234,242)",
           "radialaxis": {
            "gridcolor": "white",
            "linecolor": "white",
            "showgrid": true,
            "ticks": ""
           }
          },
          "scene": {
           "xaxis": {
            "backgroundcolor": "rgb(234,234,242)",
            "gridcolor": "white",
            "gridwidth": 2,
            "linecolor": "white",
            "showbackground": true,
            "showgrid": true,
            "ticks": "",
            "zerolinecolor": "white"
           },
           "yaxis": {
            "backgroundcolor": "rgb(234,234,242)",
            "gridcolor": "white",
            "gridwidth": 2,
            "linecolor": "white",
            "showbackground": true,
            "showgrid": true,
            "ticks": "",
            "zerolinecolor": "white"
           },
           "zaxis": {
            "backgroundcolor": "rgb(234,234,242)",
            "gridcolor": "white",
            "gridwidth": 2,
            "linecolor": "white",
            "showbackground": true,
            "showgrid": true,
            "ticks": "",
            "zerolinecolor": "white"
           }
          },
          "shapedefaults": {
           "fillcolor": "rgb(67,103,167)",
           "line": {
            "width": 0
           },
           "opacity": 0.5
          },
          "ternary": {
           "aaxis": {
            "gridcolor": "white",
            "linecolor": "white",
            "showgrid": true,
            "ticks": ""
           },
           "baxis": {
            "gridcolor": "white",
            "linecolor": "white",
            "showgrid": true,
            "ticks": ""
           },
           "bgcolor": "rgb(234,234,242)",
           "caxis": {
            "gridcolor": "white",
            "linecolor": "white",
            "showgrid": true,
            "ticks": ""
           }
          },
          "xaxis": {
           "automargin": true,
           "gridcolor": "white",
           "linecolor": "white",
           "showgrid": true,
           "ticks": "",
           "title": {
            "standoff": 15
           },
           "zerolinecolor": "white"
          },
          "yaxis": {
           "automargin": true,
           "gridcolor": "white",
           "linecolor": "white",
           "showgrid": true,
           "ticks": "",
           "title": {
            "standoff": 15
           },
           "zerolinecolor": "white"
          }
         }
        },
        "xaxis": {
         "anchor": "y",
         "domain": [
          0,
          0.235
         ],
         "title": {
          "text": "PDRB"
         }
        },
        "xaxis10": {
         "anchor": "y10",
         "domain": [
          0.255,
          0.49
         ],
         "matches": "x",
         "showticklabels": false
        },
        "xaxis11": {
         "anchor": "y11",
         "domain": [
          0.51,
          0.745
         ],
         "matches": "x",
         "showticklabels": false
        },
        "xaxis12": {
         "anchor": "y12",
         "domain": [
          0.7649999999999999,
          0.9999999999999999
         ],
         "matches": "x",
         "showticklabels": false
        },
        "xaxis13": {
         "anchor": "y13",
         "domain": [
          0,
          0.235
         ],
         "matches": "x",
         "showticklabels": false
        },
        "xaxis14": {
         "anchor": "y14",
         "domain": [
          0.255,
          0.49
         ],
         "matches": "x",
         "showticklabels": false
        },
        "xaxis15": {
         "anchor": "y15",
         "domain": [
          0.51,
          0.745
         ],
         "matches": "x",
         "showticklabels": false
        },
        "xaxis16": {
         "anchor": "y16",
         "domain": [
          0.7649999999999999,
          0.9999999999999999
         ],
         "matches": "x",
         "showticklabels": false
        },
        "xaxis2": {
         "anchor": "y2",
         "domain": [
          0.255,
          0.49
         ],
         "matches": "x",
         "title": {
          "text": "PDRB"
         }
        },
        "xaxis3": {
         "anchor": "y3",
         "domain": [
          0.51,
          0.745
         ],
         "matches": "x",
         "title": {
          "text": "PDRB"
         }
        },
        "xaxis4": {
         "anchor": "y4",
         "domain": [
          0.7649999999999999,
          0.9999999999999999
         ],
         "matches": "x",
         "title": {
          "text": "PDRB"
         }
        },
        "xaxis5": {
         "anchor": "y5",
         "domain": [
          0,
          0.235
         ],
         "matches": "x",
         "showticklabels": false
        },
        "xaxis6": {
         "anchor": "y6",
         "domain": [
          0.255,
          0.49
         ],
         "matches": "x",
         "showticklabels": false
        },
        "xaxis7": {
         "anchor": "y7",
         "domain": [
          0.51,
          0.745
         ],
         "matches": "x",
         "showticklabels": false
        },
        "xaxis8": {
         "anchor": "y8",
         "domain": [
          0.7649999999999999,
          0.9999999999999999
         ],
         "matches": "x",
         "showticklabels": false
        },
        "xaxis9": {
         "anchor": "y9",
         "domain": [
          0,
          0.235
         ],
         "matches": "x",
         "showticklabels": false
        },
        "yaxis": {
         "anchor": "x",
         "domain": [
          0,
          0.1975
         ],
         "title": {
          "text": "PDRB_Per_Kapita"
         }
        },
        "yaxis10": {
         "anchor": "x10",
         "domain": [
          0.535,
          0.7325
         ],
         "matches": "y",
         "showticklabels": false
        },
        "yaxis11": {
         "anchor": "x11",
         "domain": [
          0.535,
          0.7325
         ],
         "matches": "y",
         "showticklabels": false
        },
        "yaxis12": {
         "anchor": "x12",
         "domain": [
          0.535,
          0.7325
         ],
         "matches": "y",
         "showticklabels": false
        },
        "yaxis13": {
         "anchor": "x13",
         "domain": [
          0.8025,
          1
         ],
         "matches": "y",
         "title": {
          "text": "PDRB_Per_Kapita"
         }
        },
        "yaxis14": {
         "anchor": "x14",
         "domain": [
          0.8025,
          1
         ],
         "matches": "y",
         "showticklabels": false
        },
        "yaxis15": {
         "anchor": "x15",
         "domain": [
          0.8025,
          1
         ],
         "matches": "y",
         "showticklabels": false
        },
        "yaxis16": {
         "anchor": "x16",
         "domain": [
          0.8025,
          1
         ],
         "matches": "y",
         "showticklabels": false
        },
        "yaxis2": {
         "anchor": "x2",
         "domain": [
          0,
          0.1975
         ],
         "matches": "y",
         "showticklabels": false
        },
        "yaxis3": {
         "anchor": "x3",
         "domain": [
          0,
          0.1975
         ],
         "matches": "y",
         "showticklabels": false
        },
        "yaxis4": {
         "anchor": "x4",
         "domain": [
          0,
          0.1975
         ],
         "matches": "y",
         "showticklabels": false
        },
        "yaxis5": {
         "anchor": "x5",
         "domain": [
          0.2675,
          0.465
         ],
         "matches": "y",
         "title": {
          "text": "PDRB_Per_Kapita"
         }
        },
        "yaxis6": {
         "anchor": "x6",
         "domain": [
          0.2675,
          0.465
         ],
         "matches": "y",
         "showticklabels": false
        },
        "yaxis7": {
         "anchor": "x7",
         "domain": [
          0.2675,
          0.465
         ],
         "matches": "y",
         "showticklabels": false
        },
        "yaxis8": {
         "anchor": "x8",
         "domain": [
          0.2675,
          0.465
         ],
         "matches": "y",
         "showticklabels": false
        },
        "yaxis9": {
         "anchor": "x9",
         "domain": [
          0.535,
          0.7325
         ],
         "matches": "y",
         "title": {
          "text": "PDRB_Per_Kapita"
         }
        }
       }
      },
      "text/html": [
       "<div>                            <div id=\"753673f8-0865-4d14-a252-b07cc9302248\" class=\"plotly-graph-div\" style=\"height:525px; width:100%;\"></div>            <script type=\"text/javascript\">                require([\"plotly\"], function(Plotly) {                    window.PLOTLYENV=window.PLOTLYENV || {};                                    if (document.getElementById(\"753673f8-0865-4d14-a252-b07cc9302248\")) {                    Plotly.newPlot(                        \"753673f8-0865-4d14-a252-b07cc9302248\",                        [{\"hovertemplate\": \"Provinsi=Jambi<br>Regional=Sumbagsel<br>PDRB=%{x}<br>PDRB_Per_Kapita=%{y}<extra></extra>\", \"legendgroup\": \"Jambi\", \"marker\": {\"color\": \"rgb(76,114,176)\", \"symbol\": \"circle\"}, \"mode\": \"markers\", \"name\": \"Jambi\", \"orientation\": \"v\", \"showlegend\": true, \"type\": \"scatter\", \"x\": [7488, 10123, 30856, 43303, 15377, 24696, 14621, 16466, 24403, 18047, 15356], \"xaxis\": \"x13\", \"y\": [82367, 42413, 51024, 129676, 39538, 112263, 41245, 60340, 55041, 48156, 50865], \"yaxis\": \"y13\"}, {\"hovertemplate\": \"Provinsi=Lampung<br>Regional=Lampung<br>PDRB=%{x}<br>PDRB_Per_Kapita=%{y}<extra></extra>\", \"legendgroup\": \"Lampung\", \"marker\": {\"color\": \"rgb(221,132,82)\", \"symbol\": \"circle\"}, \"mode\": \"markers\", \"name\": \"Lampung\", \"orientation\": \"v\", \"showlegend\": true, \"type\": \"scatter\", \"x\": [71953, 10578, 24124, 59507, 4649, 45108, 11521, 23290, 6365, 7188, 11252, 14124, 15645, 16403, 42541], \"xaxis\": \"x14\", \"y\": [56156, 52835, 39105, 56593, 30017, 44605, 42167, 51652, 38023, 23737, 28116, 31379, 26150, 36912, 40736], \"yaxis\": \"y14\"}, {\"hovertemplate\": \"Provinsi=Bengkulu<br>Regional=Sumbagsel<br>PDRB=%{x}<br>PDRB_Per_Kapita=%{y}<extra></extra>\", \"legendgroup\": \"Bengkulu\", \"marker\": {\"color\": \"rgb(85,168,104)\", \"symbol\": \"circle\"}, \"mode\": \"markers\", \"name\": \"Bengkulu\", \"orientation\": \"v\", \"showlegend\": true, \"type\": \"scatter\", \"x\": [4321, 9370, 4603, 3524, 5701, 3346, 23201, 8253, 4607, 5160], \"xaxis\": \"x13\", \"y\": [31498, 35914, 23752, 29075, 35992, 28698, 60241, 26622, 40164, 26613], \"yaxis\": \"y13\"}, {\"hovertemplate\": \"Provinsi=Sumatera Utara<br>Regional=Sumbagut<br>PDRB=%{x}<br>PDRB_Per_Kapita=%{y}<extra></extra>\", \"legendgroup\": \"Sumatera Utara\", \"marker\": {\"color\": \"rgb(196,78,82)\", \"symbol\": \"circle\"}, \"mode\": \"markers\", \"name\": \"Sumatera Utara\", \"orientation\": \"v\", \"showlegend\": true, \"type\": \"scatter\", \"x\": [5514, 5532, 241482, 8951, 3825, 6861, 4435, 1817, 38057, 27959, 37440, 6373, 13545, 13932, 3516, 42515, 11700, 7677, 24378, 11372, 1178, 9166, 27132, 5924, 109334, 7889, 11620, 33610, 5951, 9957, 34048, 20585], \"xaxis\": \"x15\", \"y\": [38714, 63127, 105918, 51086, 27562, 21449, 35144, 20955, 43849, 45360, 51303, 28730, 30282, 49418, 25484, 40810, 42300, 41788, 67007, 40435, 24077, 32242, 80041, 36035, 49794, 26141, 42608, 68013, 31292, 26434, 81749, 49497], \"yaxis\": \"y15\"}, {\"hovertemplate\": \"Provinsi=Kepulauan Riau<br>Regional=Sumbagteng<br>PDRB=%{x}<br>PDRB_Per_Kapita=%{y}<extra></extra>\", \"legendgroup\": \"Kepulauan Riau\", \"marker\": {\"color\": \"rgb(129,114,179)\", \"symbol\": \"circle\"}, \"mode\": \"markers\", \"name\": \"Kepulauan Riau\", \"orientation\": \"v\", \"showlegend\": true, \"type\": \"scatter\", \"x\": [21301, 13537, 17434, 4269, 21791, 164484, 20168], \"xaxis\": \"x16\", \"y\": [133630, 58149, 412053, 47552, 280188, 119537, 95319], \"yaxis\": \"y16\"}, {\"hovertemplate\": \"Provinsi=Sumatera Barat<br>Regional=Sumbagteng<br>PDRB=%{x}<br>PDRB_Per_Kapita=%{y}<extra></extra>\", \"legendgroup\": \"Sumatera Barat\", \"marker\": {\"color\": \"rgb(147,120,96)\", \"symbol\": \"circle\"}, \"mode\": \"markers\", \"name\": \"Sumatera Barat\", \"orientation\": \"v\", \"showlegend\": true, \"type\": \"scatter\", \"x\": [6829, 14045, 8700, 62458, 8909, 21287, 13095, 20549, 3682, 13587, 3477, 15616, 5008, 4050, 4644, 9134, 5575, 15401, 10351], \"xaxis\": \"x16\", \"y\": [50368, 30274, 66524, 65685, 31679, 51219, 37607, 41828, 58884, 36386, 64749, 40791, 56591, 57040, 50463, 38477, 32589, 34709, 41810], \"yaxis\": \"y16\"}, {\"hovertemplate\": \"Provinsi=Aceh<br>Regional=Sumbagut<br>PDRB=%{x}<br>PDRB_Per_Kapita=%{y}<extra></extra>\", \"legendgroup\": \"Aceh\", \"marker\": {\"color\": \"rgb(218,139,195)\", \"symbol\": \"circle\"}, \"mode\": \"markers\", \"name\": \"Aceh\", \"orientation\": \"v\", \"showlegend\": true, \"type\": \"scatter\", \"x\": [1533, 2216, 5302, 4945, 7998, 10564, 1727, 3461, 5491, 2403, 3855, 7419, 2576, 18618, 13289, 12956, 7381, 2627, 7473, 10318, 4425, 19778, 8907], \"xaxis\": \"x15\", \"y\": [43948, 23765, 29986, 22840, 38066, 23740, 21211, 21470, 23064, 19363, 25631, 25148, 27736, 68872, 31251, 27470, 44118, 27915, 35169, 23662, 29861, 31931, 42987], \"yaxis\": \"y15\"}, {\"hovertemplate\": \"Provinsi=Sumatera Selatan<br>Regional=Sumbagsel<br>PDRB=%{x}<br>PDRB_Per_Kapita=%{y}<extra></extra>\", \"legendgroup\": \"Sumatera Selatan\", \"marker\": {\"color\": \"rgb(140,140,140)\", \"symbol\": \"circle\"}, \"mode\": \"markers\", \"name\": \"Sumatera Selatan\", \"orientation\": \"v\", \"showlegend\": true, \"type\": \"scatter\", \"x\": [154805, 6657, 7823, 57424, 8817, 7090, 14720, 28688, 15068, 11184, 19077, 29148, 4995, 17175, 2787, 66162, 7111], \"xaxis\": \"x13\", \"y\": [93094, 28664, 41872, 90174, 24417, 37362, 40015, 33568, 22264, 26003, 47241, 35126, 19964, 41953, 20024, 102248, 37000], \"yaxis\": \"y13\"}, {\"hovertemplate\": \"Provinsi=Riau<br>Regional=Sumbagteng<br>PDRB=%{x}<br>PDRB_Per_Kapita=%{y}<extra></extra>\", \"legendgroup\": \"Riau\", \"marker\": {\"color\": \"rgb(204,185,116)\", \"symbol\": \"circle\"}, \"mode\": \"markers\", \"name\": \"Riau\", \"orientation\": \"v\", \"showlegend\": true, \"type\": \"scatter\", \"x\": [36192, 119112, 32122, 18457, 62776, 41659, 33910, 77423, 47909, 142451, 82708, 74714], \"xaxis\": \"x16\", \"y\": [117199, 104177, 98138, 99492, 84764, 94296, 48994, 88878, 99063, 248604, 168793, 104569], \"yaxis\": \"y16\"}, {\"hovertemplate\": \"Provinsi=Sumatra Utara<br>Regional=Sumbagut<br>PDRB=%{x}<br>PDRB_Per_Kapita=%{y}<extra></extra>\", \"legendgroup\": \"Sumatra Utara\", \"marker\": {\"color\": \"rgb(100,181,205)\", \"symbol\": \"circle\"}, \"mode\": \"markers\", \"name\": \"Sumatra Utara\", \"orientation\": \"v\", \"showlegend\": true, \"type\": \"scatter\", \"x\": [13933], \"xaxis\": \"x15\", \"y\": [54572], \"yaxis\": \"y15\"}, {\"hovertemplate\": \"Provinsi=Bangka Belitung<br>Regional=Sumbagsel<br>PDRB=%{x}<br>PDRB_Per_Kapita=%{y}<extra></extra>\", \"legendgroup\": \"Bangka Belitung\", \"marker\": {\"color\": \"rgb(76,114,176)\", \"symbol\": \"circle\"}, \"mode\": \"markers\", \"name\": \"Bangka Belitung\", \"orientation\": \"v\", \"showlegend\": true, \"type\": \"scatter\", \"x\": [9870, 13703, 7728, 13794, 8676, 14168, 8579], \"xaxis\": \"x13\", \"y\": [51994, 64417, 59644, 40891, 41321, 66466, 43728], \"yaxis\": \"y13\"}, {\"hovertemplate\": \"Provinsi=Jawa Barat<br>Regional=Jabar<br>PDRB=%{x}<br>PDRB_Per_Kapita=%{y}<extra></extra>\", \"legendgroup\": \"Jawa Barat\", \"marker\": {\"color\": \"rgb(221,132,82)\", \"symbol\": \"circle\"}, \"mode\": \"markers\", \"name\": \"Jawa Barat\", \"orientation\": \"v\", \"showlegend\": true, \"type\": \"scatter\", \"x\": [25090, 46807, 30912, 67406, 21755, 35448, 289312, 37219, 11323, 57579, 31583, 32226, 124001, 46472, 23457, 12384, 230986, 49186, 47180, 39853, 4357, 237113, 67572, 71042, 98209, 80391, 327730], \"xaxis\": \"x9\", \"y\": [23215, 20683, 25652, 27331, 32787, 30760, 115361, 21218, 28358, 21956, 26425, 52459, 32846, 41788, 73461, 37678, 98128, 22430, 27755, 24973, 23797, 39748, 70176, 29517, 32694, 46510, 87072], \"yaxis\": \"y9\"}, {\"hovertemplate\": \"Provinsi=DKI Jakarta<br>Regional=Jabo Inner<br>PDRB=%{x}<br>PDRB_Per_Kapita=%{y}<extra></extra>\", \"legendgroup\": \"DKI Jakarta\", \"marker\": {\"color\": \"rgb(85,168,104)\", \"symbol\": \"circle\"}, \"mode\": \"markers\", \"name\": \"DKI Jakarta\", \"orientation\": \"v\", \"showlegend\": true, \"type\": \"scatter\", \"x\": [705614, 648231, 492191, 473843, 525173, 7969], \"xaxis\": \"x10\", \"y\": [760271, 286233, 167534, 182956, 289684, 327998], \"yaxis\": \"y10\"}, {\"hovertemplate\": \"Provinsi=Banten<br>Regional=Jabo Outer<br>PDRB=%{x}<br>PDRB_Per_Kapita=%{y}<extra></extra>\", \"legendgroup\": \"Banten\", \"marker\": {\"color\": \"rgb(196,78,82)\", \"symbol\": \"circle\"}, \"mode\": \"markers\", \"name\": \"Banten\", \"orientation\": \"v\", \"showlegend\": true, \"type\": \"scatter\", \"x\": [28324, 28918, 31765, 76944, 82840, 175238, 104249, 141088], \"xaxis\": \"x11\", \"y\": [23371, 22200, 46130, 51010, 47394, 78585, 238444, 37121], \"yaxis\": \"y11\"}, {\"hovertemplate\": \"Provinsi=Jawa Timur<br>Regional=Jatim<br>PDRB=%{x}<br>PDRB_Per_Kapita=%{y}<extra></extra>\", \"legendgroup\": \"Jawa Timur\", \"marker\": {\"color\": \"rgb(129,114,179)\", \"symbol\": \"circle\"}, \"mode\": \"markers\", \"name\": \"Jawa Timur\", \"orientation\": \"v\", \"showlegend\": true, \"type\": \"scatter\", \"x\": [580756, 204022, 145920, 139044, 103760, 83607, 82392, 78047, 77234, 72773, 65016, 41205, 40494, 39734, 39215, 36447, 34020, 33299, 32691, 26665, 24676, 20499, 20434, 20220, 19869, 19700, 18932, 18856, 18553, 17043, 16926, 15978, 139253, 14108, 11350, 8289, 6809, 6792], \"xaxis\": \"x12\", \"y\": [200524, 90697, 89665, 105907, 39813, 51801, 73716, 62453, 31516, 83581, 55437, 26174, 32041, 33415, 37733, 31402, 29114, 30580, 31362, 25284, 25009, 23525, 24616, 29606, 25614, 20125, 27731, 29979, 26646, 19367, 81575, 28774, 484513, 79705, 47849, 41356, 52780, 47875], \"yaxis\": \"y12\"}, {\"hovertemplate\": \"Provinsi=Jawa Tengah<br>Regional=Jateng<br>PDRB=%{x}<br>PDRB_Per_Kapita=%{y}<extra></extra>\", \"legendgroup\": \"Jawa Tengah\", \"marker\": {\"color\": \"rgb(147,120,96)\", \"symbol\": \"circle\"}, \"mode\": \"markers\", \"name\": \"Jawa Tengah\", \"orientation\": \"v\", \"showlegend\": true, \"type\": \"scatter\", \"x\": [191547, 114194, 110514, 53949, 49767, 46215, 43064, 42535, 39799, 37836, 37013, 36927, 35232, 32704, 32491, 30231, 29047, 27944, 27291, 26184, 25977, 25483, 24918, 22857, 21657, 21599, 21574, 18934, 18854, 18673, 48003, 15288, 13316, 10874, 8810], \"xaxis\": \"x5\", \"y\": [105587, 66119, 126837, 31866, 47226, 25546, 34189, 43802, 33872, 42488, 41751, 41403, 24455, 33209, 25175, 24032, 30273, 23326, 19808, 22518, 30031, 19560, 26679, 25461, 28053, 23397, 28070, 29669, 23851, 25995, 92387, 61174, 68609, 35409, 72146], \"yaxis\": \"y5\"}, {\"hovertemplate\": \"Provinsi=Yogyakarta<br>Regional=Jateng<br>PDRB=%{x}<br>PDRB_Per_Kapita=%{y}<extra></extra>\", \"legendgroup\": \"Yogyakarta\", \"marker\": {\"color\": \"rgb(218,139,195)\", \"symbol\": \"circle\"}, \"mode\": \"markers\", \"name\": \"Yogyakarta\", \"orientation\": \"v\", \"showlegend\": true, \"type\": \"scatter\", \"x\": [47581, 26345, 18890, 12017, 36599], \"xaxis\": \"x5\", \"y\": [39012, 25869, 25433, 27932, 84732], \"yaxis\": \"y5\"}, {\"hovertemplate\": \"Provinsi=Sulawesi Selatan<br>Regional=Sulawesi<br>PDRB=%{x}<br>PDRB_Per_Kapita=%{y}<extra></extra>\", \"legendgroup\": \"Sulawesi Selatan\", \"marker\": {\"color\": \"rgb(140,140,140)\", \"symbol\": \"circle\"}, \"mode\": \"markers\", \"name\": \"Sulawesi Selatan\", \"orientation\": \"v\", \"showlegend\": true, \"type\": \"scatter\", \"x\": [14215, 7271, 13894, 10157, 20939, 10961, 10090, 10937, 9596, 8781, 36035, 7480, 6443, 178430, 15658, 19630, 13047, 22718, 7230, 25990, 7942, 7298, 19839, 20997], \"xaxis\": \"x6\", \"y\": [33796, 41711, 46010, 34007, 27099, 44898, 27735, 48184, 41504, 46801, 47502, 31965, 47504, 116875, 43250, 52053, 41700, 64335, 49804, 77464, 43022, 35362, 49870, 70066], \"yaxis\": \"y6\"}, {\"hovertemplate\": \"Provinsi=Kalimantan Tengah<br>Regional=Kalimantan<br>PDRB=%{x}<br>PDRB_Per_Kapita=%{y}<extra></extra>\", \"legendgroup\": \"Kalimantan Tengah\", \"marker\": {\"color\": \"rgb(204,185,116)\", \"symbol\": \"circle\"}, \"mode\": \"markers\", \"name\": \"Kalimantan Tengah\", \"orientation\": \"v\", \"showlegend\": true, \"type\": \"scatter\", \"x\": [18259, 5297, 9801, 26817, 8237, 5743, 16609, 6363, 8280, 5489, 7549, 19335, 4194, 8565], \"xaxis\": \"x7\", \"y\": [62601, 41670, 74979, 57502, 48452, 47894, 46289, 46512, 68549, 66385, 59496, 61790, 65175, 41601], \"yaxis\": \"y7\"}, {\"hovertemplate\": \"Provinsi=Papua<br>Regional=Malpua<br>PDRB=%{x}<br>PDRB_Per_Kapita=%{y}<extra></extra>\", \"legendgroup\": \"Papua\", \"marker\": {\"color\": \"rgb(100,181,205)\", \"symbol\": \"circle\"}, \"mode\": \"markers\", \"name\": \"Papua\", \"orientation\": \"v\", \"showlegend\": true, \"type\": \"scatter\", \"x\": [1216, 1388, 1828, 1221, 1401, 2816, 1164, 16429, 16009, 8340, 1665, 1916, 1310, 2470, 2954, 2420, 11099, 1594, 32607, 4183, 2048, 4240, 2855, 4892, 1407, 1006, 5476, 54832], \"xaxis\": \"x8\", \"y\": [12336, 18969, 10210, 19508, 12372, 69494, 24140, 124650, 70398, 38275, 69146, 25275, 13386, 25332, 28595, 12679, 73844, 11461, 108619, 23577, 64974, 41891, 50001, 70677, 10880, 48564, 35932, 249588], \"yaxis\": \"y8\"}, {\"hovertemplate\": \"Provinsi=Gorontalo<br>Regional=Sulawesi<br>PDRB=%{x}<br>PDRB_Per_Kapita=%{y}<extra></extra>\", \"legendgroup\": \"Gorontalo\", \"marker\": {\"color\": \"rgb(76,114,176)\", \"symbol\": \"circle\"}, \"mode\": \"markers\", \"name\": \"Gorontalo\", \"orientation\": \"v\", \"showlegend\": true, \"type\": \"scatter\", \"x\": [3370, 12887, 4579, 8456, 6623, 5413], \"xaxis\": \"x6\", \"y\": [29289, 34044, 28402, 38540, 41041, 32406], \"yaxis\": \"y6\"}, {\"hovertemplate\": \"Provinsi=Maluku Utara<br>Regional=Malpua<br>PDRB=%{x}<br>PDRB_Per_Kapita=%{y}<extra></extra>\", \"legendgroup\": \"Maluku Utara\", \"marker\": {\"color\": \"rgb(221,132,82)\", \"symbol\": \"circle\"}, \"mode\": \"markers\", \"name\": \"Maluku Utara\", \"orientation\": \"v\", \"showlegend\": true, \"type\": \"scatter\", \"x\": [2429, 2261, 7226, 3500, 5623, 2500, 1533, 1452, 10758, 2899], \"xaxis\": \"x8\", \"y\": [43595, 19111, 30739, 36841, 29009, 24298, 22782, 27378, 46132, 28587], \"yaxis\": \"y8\"}, {\"hovertemplate\": \"Provinsi=Sulawesi Barat<br>Regional=Sulawesi<br>PDRB=%{x}<br>PDRB_Per_Kapita=%{y}<extra></extra>\", \"legendgroup\": \"Sulawesi Barat\", \"marker\": {\"color\": \"rgb(85,168,104)\", \"symbol\": \"circle\"}, \"mode\": \"markers\", \"name\": \"Sulawesi Barat\", \"orientation\": \"v\", \"showlegend\": true, \"type\": \"scatter\", \"x\": [3154, 13369, 4973, 2974, 11731, 10216], \"xaxis\": \"x6\", \"y\": [23531, 30208, 28601, 18364, 39993, 58552], \"yaxis\": \"y6\"}, {\"hovertemplate\": \"Provinsi=Kalimantan Utara<br>Regional=Kalimantan<br>PDRB=%{x}<br>PDRB_Per_Kapita=%{y}<extra></extra>\", \"legendgroup\": \"Kalimantan Utara\", \"marker\": {\"color\": \"rgb(196,78,82)\", \"symbol\": \"circle\"}, \"mode\": \"markers\", \"name\": \"Kalimantan Utara\", \"orientation\": \"v\", \"showlegend\": true, \"type\": \"scatter\", \"x\": [36290, 18265, 10646, 25420, 5786], \"xaxis\": \"x7\", \"y\": [133963, 128514, 117790, 121093, 200017], \"yaxis\": \"y7\"}, {\"hovertemplate\": \"Provinsi=Sulawesi Tengah<br>Regional=Sulawesi<br>PDRB=%{x}<br>PDRB_Per_Kapita=%{y}<extra></extra>\", \"legendgroup\": \"Sulawesi Tengah\", \"marker\": {\"color\": \"rgb(129,114,179)\", \"symbol\": \"circle\"}, \"mode\": \"markers\", \"name\": \"Sulawesi Tengah\", \"orientation\": \"v\", \"showlegend\": true, \"type\": \"scatter\", \"x\": [30513, 24327, 4037, 11767, 24816, 8545, 2437, 18729, 9506, 5713, 8987, 12261, 5885], \"xaxis\": \"x6\", \"y\": [80976, 200561, 34096, 91700, 63405, 36239, 32493, 38151, 37075, 37099, 37537, 40317, 36289], \"yaxis\": \"y6\"}, {\"hovertemplate\": \"Provinsi=Sulawesi Tenggara<br>Regional=Sulawesi<br>PDRB=%{x}<br>PDRB_Per_Kapita=%{y}<extra></extra>\", \"legendgroup\": \"Sulawesi Tenggara\", \"marker\": {\"color\": \"rgb(147,120,96)\", \"symbol\": \"circle\"}, \"mode\": \"markers\", \"name\": \"Sulawesi Tenggara\", \"orientation\": \"v\", \"showlegend\": true, \"type\": \"scatter\", \"x\": [6929, 4357, 26456, 2370, 2937, 8674, 12105, 1384, 9044, 9013, 3132, 3926, 22245, 4427, 3806, 6431, 2589], \"xaxis\": \"x6\", \"y\": [41466, 45433, 130900, 25456, 36356, 57511, 38455, 40457, 52644, 35386, 48880, 61524, 56628, 22953, 37087, 34841, 18676], \"yaxis\": \"y6\"}, {\"hovertemplate\": \"Provinsi=Sulawesi Utara<br>Regional=Sulawesi<br>PDRB=%{x}<br>PDRB_Per_Kapita=%{y}<extra></extra>\", \"legendgroup\": \"Sulawesi Utara\", \"marker\": {\"color\": \"rgb(218,139,195)\", \"symbol\": \"circle\"}, \"mode\": \"markers\", \"name\": \"Sulawesi Utara\", \"orientation\": \"v\", \"showlegend\": true, \"type\": \"scatter\", \"x\": [2367, 37387, 13819, 2879, 8010, 3695, 2084, 4248, 5112, 8601, 2488, 17120, 4291, 2210, 16309], \"xaxis\": \"x6\", \"y\": [35642, 86217, 67864, 39761, 32325, 28777, 31540, 32388, 47821, 40824, 30976, 50178, 40139, 23902, 74470], \"yaxis\": \"y6\"}, {\"hovertemplate\": \"Provinsi=Kalimantan Barat<br>Regional=Kalimantan<br>PDRB=%{x}<br>PDRB_Per_Kapita=%{y}<extra></extra>\", \"legendgroup\": \"Kalimantan Barat\", \"marker\": {\"color\": \"rgb(140,140,140)\", \"symbol\": \"circle\"}, \"mode\": \"markers\", \"name\": \"Kalimantan Barat\", \"orientation\": \"v\", \"showlegend\": true, \"type\": \"scatter\", \"x\": [27509, 29116, 6449, 8304, 4144, 20583, 14726, 10286, 10583, 8729, 5187, 38932, 19271, 10256], \"xaxis\": \"x7\", \"y\": [53646, 50258, 31995, 31427, 36761, 38422, 35163, 39078, 28050, 34195, 24885, 60205, 40982, 46009], \"yaxis\": \"y7\"}, {\"hovertemplate\": \"Provinsi=Papua Barat<br>Regional=Malpua<br>PDRB=%{x}<br>PDRB_Per_Kapita=%{y}<extra></extra>\", \"legendgroup\": \"Papua Barat\", \"marker\": {\"color\": \"rgb(204,185,116)\", \"symbol\": \"circle\"}, \"mode\": \"markers\", \"name\": \"Papua Barat\", \"orientation\": \"v\", \"showlegend\": true, \"type\": \"scatter\", \"x\": [236, 737, 5316, 1915, 10078, 1563, 15865, 2788, 835, 198, 31392, 2949, 11082], \"xaxis\": \"x8\", \"y\": [17018, 18029, 67562, 40807, 57532, 48053, 62389, 46303, 34486, 6398, 487415, 60811, 124617], \"yaxis\": \"y8\"}, {\"hovertemplate\": \"Provinsi=Maluku<br>Regional=Malpua<br>PDRB=%{x}<br>PDRB_Per_Kapita=%{y}<extra></extra>\", \"legendgroup\": \"Maluku\", \"marker\": {\"color\": \"rgb(100,181,205)\", \"symbol\": \"circle\"}, \"mode\": \"markers\", \"name\": \"Maluku\", \"orientation\": \"v\", \"showlegend\": true, \"type\": \"scatter\", \"x\": [2687, 3231, 1656, 3002, 8673, 1406, 3476, 2458, 2905, 2404, 14839], \"xaxis\": \"x8\", \"y\": [23778, 32374, 22646, 17497, 23228, 22205, 36167, 32527, 25328, 16731, 31003], \"yaxis\": \"y8\"}, {\"hovertemplate\": \"Provinsi=Kalimantan Selatan<br>Regional=Kalimantan<br>PDRB=%{x}<br>PDRB_Per_Kapita=%{y}<extra></extra>\", \"legendgroup\": \"Kalimantan Selatan\", \"marker\": {\"color\": \"rgb(76,114,176)\", \"symbol\": \"circle\"}, \"mode\": \"markers\", \"name\": \"Kalimantan Selatan\", \"orientation\": \"v\", \"showlegend\": true, \"type\": \"scatter\", \"x\": [11040, 16615, 8714, 6604, 7058, 4954, 24180, 18047, 20065, 13930, 8372, 9744, 33042], \"xaxis\": \"x7\", \"y\": [84003, 28254, 27787, 27783, 25909, 20854, 70658, 70961, 55707, 40507, 43747, 37088, 46630], \"yaxis\": \"y7\"}, {\"hovertemplate\": \"Provinsi=Kalimantan Timur<br>Regional=Kalimantan<br>PDRB=%{x}<br>PDRB_Per_Kapita=%{y}<extra></extra>\", \"legendgroup\": \"Kalimantan Timur\", \"marker\": {\"color\": \"rgb(221,132,82)\", \"symbol\": \"circle\"}, \"mode\": \"markers\", \"name\": \"Kalimantan Timur\", \"orientation\": \"v\", \"showlegend\": true, \"type\": \"scatter\", \"x\": [39051, 28865, 162739, 133725, 2718, 48176, 9087, 102389, 58479, 68571], \"xaxis\": \"x7\", \"y\": [168114, 195009, 207015, 355547, 103062, 168509, 56475, 156277, 329050, 78567], \"yaxis\": \"y7\"}, {\"hovertemplate\": \"Provinsi=Nusa Tenggara Timur<br>Regional=Balnus<br>PDRB=%{x}<br>PDRB_Per_Kapita=%{y}<extra></extra>\", \"legendgroup\": \"Nusa Tenggara Timur\", \"marker\": {\"color\": \"rgb(85,168,104)\", \"symbol\": \"circle\"}, \"mode\": \"markers\", \"name\": \"Nusa Tenggara Timur\", \"orientation\": \"v\", \"showlegend\": true, \"type\": \"scatter\", \"x\": [7938, 5124, 4481, 3055, 3212, 6107, 4680, 2334, 1177, 5252, 2778, 6257, 24559, 2241, 4083, 3467, 3474, 1424, 3755, 1859, 3136, 7710], \"xaxis\": \"x\", \"y\": [16963, 15992, 20356, 14860, 11183, 22294, 13828, 17998, 16168, 20523, 14475, 24207, 56462, 15367, 16066, 12621, 21284, 14623, 10893, 12993, 18224, 19105], \"yaxis\": \"y\"}, {\"hovertemplate\": \"Provinsi=Bali<br>Regional=Balnus<br>PDRB=%{x}<br>PDRB_Per_Kapita=%{y}<extra></extra>\", \"legendgroup\": \"Bali\", \"marker\": {\"color\": \"rgb(196,78,82)\", \"symbol\": \"circle\"}, \"mode\": \"markers\", \"name\": \"Bali\", \"orientation\": \"v\", \"showlegend\": true, \"type\": \"scatter\", \"x\": [9120, 6999, 35509, 23886, 28581, 17107, 62795, 14162, 55676], \"xaxis\": \"x\", \"y\": [50927, 30794, 53756, 53590, 55804, 41060, 93692, 50919, 58785], \"yaxis\": \"y\"}, {\"hovertemplate\": \"Provinsi=Nusa Tenggara Barat<br>Regional=Balnus<br>PDRB=%{x}<br>PDRB_Per_Kapita=%{y}<extra></extra>\", \"legendgroup\": \"Nusa Tenggara Barat\", \"marker\": {\"color\": \"rgb(129,114,179)\", \"symbol\": \"circle\"}, \"mode\": \"markers\", \"name\": \"Nusa Tenggara Barat\", \"orientation\": \"v\", \"showlegend\": true, \"type\": \"scatter\", \"x\": [14811, 19484, 20306, 11645, 7173, 4274, 17881, 4868, 15461, 17583], \"xaxis\": \"x\", \"y\": [32363, 40032, 16913, 23834, 28433, 24699, 18872, 22085, 22247, 118321], \"yaxis\": \"y\"}],                        {\"annotations\": [{\"font\": {}, \"showarrow\": false, \"text\": \"Regional=Balnus\", \"x\": 0.1175, \"xanchor\": \"center\", \"xref\": \"paper\", \"y\": 0.1975, \"yanchor\": \"bottom\", \"yref\": \"paper\"}, {\"font\": {}, \"showarrow\": false, \"text\": \"Regional=Jateng\", \"x\": 0.1175, \"xanchor\": \"center\", \"xref\": \"paper\", \"y\": 0.465, \"yanchor\": \"bottom\", \"yref\": \"paper\"}, {\"font\": {}, \"showarrow\": false, \"text\": \"Regional=Sulawesi\", \"x\": 0.3725, \"xanchor\": \"center\", \"xref\": \"paper\", \"y\": 0.465, \"yanchor\": \"bottom\", \"yref\": \"paper\"}, {\"font\": {}, \"showarrow\": false, \"text\": \"Regional=Kalimantan\", \"x\": 0.6275, \"xanchor\": \"center\", \"xref\": \"paper\", \"y\": 0.465, \"yanchor\": \"bottom\", \"yref\": \"paper\"}, {\"font\": {}, \"showarrow\": false, \"text\": \"Regional=Malpua\", \"x\": 0.8824999999999998, \"xanchor\": \"center\", \"xref\": \"paper\", \"y\": 0.465, \"yanchor\": \"bottom\", \"yref\": \"paper\"}, {\"font\": {}, \"showarrow\": false, \"text\": \"Regional=Jabar\", \"x\": 0.1175, \"xanchor\": \"center\", \"xref\": \"paper\", \"y\": 0.7325, \"yanchor\": \"bottom\", \"yref\": \"paper\"}, {\"font\": {}, \"showarrow\": false, \"text\": \"Regional=Jabo Inner\", \"x\": 0.3725, \"xanchor\": \"center\", \"xref\": \"paper\", \"y\": 0.7325, \"yanchor\": \"bottom\", \"yref\": \"paper\"}, {\"font\": {}, \"showarrow\": false, \"text\": \"Regional=Jabo Outer\", \"x\": 0.6275, \"xanchor\": \"center\", \"xref\": \"paper\", \"y\": 0.7325, \"yanchor\": \"bottom\", \"yref\": \"paper\"}, {\"font\": {}, \"showarrow\": false, \"text\": \"Regional=Jatim\", \"x\": 0.8824999999999998, \"xanchor\": \"center\", \"xref\": \"paper\", \"y\": 0.7325, \"yanchor\": \"bottom\", \"yref\": \"paper\"}, {\"font\": {}, \"showarrow\": false, \"text\": \"Regional=Sumbagsel\", \"x\": 0.1175, \"xanchor\": \"center\", \"xref\": \"paper\", \"y\": 1.0, \"yanchor\": \"bottom\", \"yref\": \"paper\"}, {\"font\": {}, \"showarrow\": false, \"text\": \"Regional=Lampung\", \"x\": 0.3725, \"xanchor\": \"center\", \"xref\": \"paper\", \"y\": 1.0, \"yanchor\": \"bottom\", \"yref\": \"paper\"}, {\"font\": {}, \"showarrow\": false, \"text\": \"Regional=Sumbagut\", \"x\": 0.6275, \"xanchor\": \"center\", \"xref\": \"paper\", \"y\": 1.0, \"yanchor\": \"bottom\", \"yref\": \"paper\"}, {\"font\": {}, \"showarrow\": false, \"text\": \"Regional=Sumbagteng\", \"x\": 0.8824999999999998, \"xanchor\": \"center\", \"xref\": \"paper\", \"y\": 1.0, \"yanchor\": \"bottom\", \"yref\": \"paper\"}], \"legend\": {\"title\": {\"text\": \"Provinsi\"}, \"tracegroupgap\": 0}, \"margin\": {\"t\": 60}, \"template\": {\"data\": {\"bar\": [{\"error_x\": {\"color\": \"rgb(36,36,36)\"}, \"error_y\": {\"color\": \"rgb(36,36,36)\"}, \"marker\": {\"line\": {\"color\": \"rgb(234,234,242)\", \"width\": 0.5}}, \"type\": \"bar\"}], \"barpolar\": [{\"marker\": {\"line\": {\"color\": \"rgb(234,234,242)\", \"width\": 0.5}}, \"type\": \"barpolar\"}], \"carpet\": [{\"aaxis\": {\"endlinecolor\": \"rgb(36,36,36)\", \"gridcolor\": \"white\", \"linecolor\": \"white\", \"minorgridcolor\": \"white\", \"startlinecolor\": \"rgb(36,36,36)\"}, \"baxis\": {\"endlinecolor\": \"rgb(36,36,36)\", \"gridcolor\": \"white\", \"linecolor\": \"white\", \"minorgridcolor\": \"white\", \"startlinecolor\": \"rgb(36,36,36)\"}, \"type\": \"carpet\"}], \"choropleth\": [{\"colorbar\": {\"outlinewidth\": 0, \"tickcolor\": \"rgb(36,36,36)\", \"ticklen\": 8, \"ticks\": \"outside\", \"tickwidth\": 2}, \"type\": \"choropleth\"}], \"contour\": [{\"colorbar\": {\"outlinewidth\": 0, \"tickcolor\": \"rgb(36,36,36)\", \"ticklen\": 8, \"ticks\": \"outside\", \"tickwidth\": 2}, \"colorscale\": [[0.0, \"rgb(2,4,25)\"], [0.06274509803921569, \"rgb(24,15,41)\"], [0.12549019607843137, \"rgb(47,23,57)\"], [0.18823529411764706, \"rgb(71,28,72)\"], [0.25098039215686274, \"rgb(97,30,82)\"], [0.3137254901960784, \"rgb(123,30,89)\"], [0.3764705882352941, \"rgb(150,27,91)\"], [0.4392156862745098, \"rgb(177,22,88)\"], [0.5019607843137255, \"rgb(203,26,79)\"], [0.5647058823529412, \"rgb(223,47,67)\"], [0.6274509803921569, \"rgb(236,76,61)\"], [0.6901960784313725, \"rgb(242,107,73)\"], [0.7529411764705882, \"rgb(244,135,95)\"], [0.8156862745098039, \"rgb(245,162,122)\"], [0.8784313725490196, \"rgb(246,188,153)\"], [0.9411764705882353, \"rgb(247,212,187)\"], [1.0, \"rgb(250,234,220)\"]], \"type\": \"contour\"}], \"contourcarpet\": [{\"colorbar\": {\"outlinewidth\": 0, \"tickcolor\": \"rgb(36,36,36)\", \"ticklen\": 8, \"ticks\": \"outside\", \"tickwidth\": 2}, \"type\": \"contourcarpet\"}], \"heatmap\": [{\"colorbar\": {\"outlinewidth\": 0, \"tickcolor\": \"rgb(36,36,36)\", \"ticklen\": 8, \"ticks\": \"outside\", \"tickwidth\": 2}, \"colorscale\": [[0.0, \"rgb(2,4,25)\"], [0.06274509803921569, \"rgb(24,15,41)\"], [0.12549019607843137, \"rgb(47,23,57)\"], [0.18823529411764706, \"rgb(71,28,72)\"], [0.25098039215686274, \"rgb(97,30,82)\"], [0.3137254901960784, \"rgb(123,30,89)\"], [0.3764705882352941, \"rgb(150,27,91)\"], [0.4392156862745098, \"rgb(177,22,88)\"], [0.5019607843137255, \"rgb(203,26,79)\"], [0.5647058823529412, \"rgb(223,47,67)\"], [0.6274509803921569, \"rgb(236,76,61)\"], [0.6901960784313725, \"rgb(242,107,73)\"], [0.7529411764705882, \"rgb(244,135,95)\"], [0.8156862745098039, \"rgb(245,162,122)\"], [0.8784313725490196, \"rgb(246,188,153)\"], [0.9411764705882353, \"rgb(247,212,187)\"], [1.0, \"rgb(250,234,220)\"]], \"type\": \"heatmap\"}], \"heatmapgl\": [{\"colorbar\": {\"outlinewidth\": 0, \"tickcolor\": \"rgb(36,36,36)\", \"ticklen\": 8, \"ticks\": \"outside\", \"tickwidth\": 2}, \"colorscale\": [[0.0, \"rgb(2,4,25)\"], [0.06274509803921569, \"rgb(24,15,41)\"], [0.12549019607843137, \"rgb(47,23,57)\"], [0.18823529411764706, \"rgb(71,28,72)\"], [0.25098039215686274, \"rgb(97,30,82)\"], [0.3137254901960784, \"rgb(123,30,89)\"], [0.3764705882352941, \"rgb(150,27,91)\"], [0.4392156862745098, \"rgb(177,22,88)\"], [0.5019607843137255, \"rgb(203,26,79)\"], [0.5647058823529412, \"rgb(223,47,67)\"], [0.6274509803921569, \"rgb(236,76,61)\"], [0.6901960784313725, \"rgb(242,107,73)\"], [0.7529411764705882, \"rgb(244,135,95)\"], [0.8156862745098039, \"rgb(245,162,122)\"], [0.8784313725490196, \"rgb(246,188,153)\"], [0.9411764705882353, \"rgb(247,212,187)\"], [1.0, \"rgb(250,234,220)\"]], \"type\": \"heatmapgl\"}], \"histogram\": [{\"marker\": {\"colorbar\": {\"outlinewidth\": 0, \"tickcolor\": \"rgb(36,36,36)\", \"ticklen\": 8, \"ticks\": \"outside\", \"tickwidth\": 2}}, \"type\": \"histogram\"}], \"histogram2d\": [{\"colorbar\": {\"outlinewidth\": 0, \"tickcolor\": \"rgb(36,36,36)\", \"ticklen\": 8, \"ticks\": \"outside\", \"tickwidth\": 2}, \"colorscale\": [[0.0, \"rgb(2,4,25)\"], [0.06274509803921569, \"rgb(24,15,41)\"], [0.12549019607843137, \"rgb(47,23,57)\"], [0.18823529411764706, \"rgb(71,28,72)\"], [0.25098039215686274, \"rgb(97,30,82)\"], [0.3137254901960784, \"rgb(123,30,89)\"], [0.3764705882352941, \"rgb(150,27,91)\"], [0.4392156862745098, \"rgb(177,22,88)\"], [0.5019607843137255, \"rgb(203,26,79)\"], [0.5647058823529412, \"rgb(223,47,67)\"], [0.6274509803921569, \"rgb(236,76,61)\"], [0.6901960784313725, \"rgb(242,107,73)\"], [0.7529411764705882, \"rgb(244,135,95)\"], [0.8156862745098039, \"rgb(245,162,122)\"], [0.8784313725490196, \"rgb(246,188,153)\"], [0.9411764705882353, \"rgb(247,212,187)\"], [1.0, \"rgb(250,234,220)\"]], \"type\": \"histogram2d\"}], \"histogram2dcontour\": [{\"colorbar\": {\"outlinewidth\": 0, \"tickcolor\": \"rgb(36,36,36)\", \"ticklen\": 8, \"ticks\": \"outside\", \"tickwidth\": 2}, \"colorscale\": [[0.0, \"rgb(2,4,25)\"], [0.06274509803921569, \"rgb(24,15,41)\"], [0.12549019607843137, \"rgb(47,23,57)\"], [0.18823529411764706, \"rgb(71,28,72)\"], [0.25098039215686274, \"rgb(97,30,82)\"], [0.3137254901960784, \"rgb(123,30,89)\"], [0.3764705882352941, \"rgb(150,27,91)\"], [0.4392156862745098, \"rgb(177,22,88)\"], [0.5019607843137255, \"rgb(203,26,79)\"], [0.5647058823529412, \"rgb(223,47,67)\"], [0.6274509803921569, \"rgb(236,76,61)\"], [0.6901960784313725, \"rgb(242,107,73)\"], [0.7529411764705882, \"rgb(244,135,95)\"], [0.8156862745098039, \"rgb(245,162,122)\"], [0.8784313725490196, \"rgb(246,188,153)\"], [0.9411764705882353, \"rgb(247,212,187)\"], [1.0, \"rgb(250,234,220)\"]], \"type\": \"histogram2dcontour\"}], \"mesh3d\": [{\"colorbar\": {\"outlinewidth\": 0, \"tickcolor\": \"rgb(36,36,36)\", \"ticklen\": 8, \"ticks\": \"outside\", \"tickwidth\": 2}, \"type\": \"mesh3d\"}], \"parcoords\": [{\"line\": {\"colorbar\": {\"outlinewidth\": 0, \"tickcolor\": \"rgb(36,36,36)\", \"ticklen\": 8, \"ticks\": \"outside\", \"tickwidth\": 2}}, \"type\": \"parcoords\"}], \"pie\": [{\"automargin\": true, \"type\": \"pie\"}], \"scatter\": [{\"marker\": {\"colorbar\": {\"outlinewidth\": 0, \"tickcolor\": \"rgb(36,36,36)\", \"ticklen\": 8, \"ticks\": \"outside\", \"tickwidth\": 2}}, \"type\": \"scatter\"}], \"scatter3d\": [{\"line\": {\"colorbar\": {\"outlinewidth\": 0, \"tickcolor\": \"rgb(36,36,36)\", \"ticklen\": 8, \"ticks\": \"outside\", \"tickwidth\": 2}}, \"marker\": {\"colorbar\": {\"outlinewidth\": 0, \"tickcolor\": \"rgb(36,36,36)\", \"ticklen\": 8, \"ticks\": \"outside\", \"tickwidth\": 2}}, \"type\": \"scatter3d\"}], \"scattercarpet\": [{\"marker\": {\"colorbar\": {\"outlinewidth\": 0, \"tickcolor\": \"rgb(36,36,36)\", \"ticklen\": 8, \"ticks\": \"outside\", \"tickwidth\": 2}}, \"type\": \"scattercarpet\"}], \"scattergeo\": [{\"marker\": {\"colorbar\": {\"outlinewidth\": 0, \"tickcolor\": \"rgb(36,36,36)\", \"ticklen\": 8, \"ticks\": \"outside\", \"tickwidth\": 2}}, \"type\": \"scattergeo\"}], \"scattergl\": [{\"marker\": {\"colorbar\": {\"outlinewidth\": 0, \"tickcolor\": \"rgb(36,36,36)\", \"ticklen\": 8, \"ticks\": \"outside\", \"tickwidth\": 2}}, \"type\": \"scattergl\"}], \"scattermapbox\": [{\"marker\": {\"colorbar\": {\"outlinewidth\": 0, \"tickcolor\": \"rgb(36,36,36)\", \"ticklen\": 8, \"ticks\": \"outside\", \"tickwidth\": 2}}, \"type\": \"scattermapbox\"}], \"scatterpolar\": [{\"marker\": {\"colorbar\": {\"outlinewidth\": 0, \"tickcolor\": \"rgb(36,36,36)\", \"ticklen\": 8, \"ticks\": \"outside\", \"tickwidth\": 2}}, \"type\": \"scatterpolar\"}], \"scatterpolargl\": [{\"marker\": {\"colorbar\": {\"outlinewidth\": 0, \"tickcolor\": \"rgb(36,36,36)\", \"ticklen\": 8, \"ticks\": \"outside\", \"tickwidth\": 2}}, \"type\": \"scatterpolargl\"}], \"scatterternary\": [{\"marker\": {\"colorbar\": {\"outlinewidth\": 0, \"tickcolor\": \"rgb(36,36,36)\", \"ticklen\": 8, \"ticks\": \"outside\", \"tickwidth\": 2}}, \"type\": \"scatterternary\"}], \"surface\": [{\"colorbar\": {\"outlinewidth\": 0, \"tickcolor\": \"rgb(36,36,36)\", \"ticklen\": 8, \"ticks\": \"outside\", \"tickwidth\": 2}, \"colorscale\": [[0.0, \"rgb(2,4,25)\"], [0.06274509803921569, \"rgb(24,15,41)\"], [0.12549019607843137, \"rgb(47,23,57)\"], [0.18823529411764706, \"rgb(71,28,72)\"], [0.25098039215686274, \"rgb(97,30,82)\"], [0.3137254901960784, \"rgb(123,30,89)\"], [0.3764705882352941, \"rgb(150,27,91)\"], [0.4392156862745098, \"rgb(177,22,88)\"], [0.5019607843137255, \"rgb(203,26,79)\"], [0.5647058823529412, \"rgb(223,47,67)\"], [0.6274509803921569, \"rgb(236,76,61)\"], [0.6901960784313725, \"rgb(242,107,73)\"], [0.7529411764705882, \"rgb(244,135,95)\"], [0.8156862745098039, \"rgb(245,162,122)\"], [0.8784313725490196, \"rgb(246,188,153)\"], [0.9411764705882353, \"rgb(247,212,187)\"], [1.0, \"rgb(250,234,220)\"]], \"type\": \"surface\"}], \"table\": [{\"cells\": {\"fill\": {\"color\": \"rgb(231,231,240)\"}, \"line\": {\"color\": \"white\"}}, \"header\": {\"fill\": {\"color\": \"rgb(183,183,191)\"}, \"line\": {\"color\": \"white\"}}, \"type\": \"table\"}]}, \"layout\": {\"annotationdefaults\": {\"arrowcolor\": \"rgb(67,103,167)\"}, \"coloraxis\": {\"colorbar\": {\"outlinewidth\": 0, \"tickcolor\": \"rgb(36,36,36)\", \"ticklen\": 8, \"ticks\": \"outside\", \"tickwidth\": 2}}, \"colorscale\": {\"sequential\": [[0.0, \"rgb(2,4,25)\"], [0.06274509803921569, \"rgb(24,15,41)\"], [0.12549019607843137, \"rgb(47,23,57)\"], [0.18823529411764706, \"rgb(71,28,72)\"], [0.25098039215686274, \"rgb(97,30,82)\"], [0.3137254901960784, \"rgb(123,30,89)\"], [0.3764705882352941, \"rgb(150,27,91)\"], [0.4392156862745098, \"rgb(177,22,88)\"], [0.5019607843137255, \"rgb(203,26,79)\"], [0.5647058823529412, \"rgb(223,47,67)\"], [0.6274509803921569, \"rgb(236,76,61)\"], [0.6901960784313725, \"rgb(242,107,73)\"], [0.7529411764705882, \"rgb(244,135,95)\"], [0.8156862745098039, \"rgb(245,162,122)\"], [0.8784313725490196, \"rgb(246,188,153)\"], [0.9411764705882353, \"rgb(247,212,187)\"], [1.0, \"rgb(250,234,220)\"]], \"sequentialminus\": [[0.0, \"rgb(2,4,25)\"], [0.06274509803921569, \"rgb(24,15,41)\"], [0.12549019607843137, \"rgb(47,23,57)\"], [0.18823529411764706, \"rgb(71,28,72)\"], [0.25098039215686274, \"rgb(97,30,82)\"], [0.3137254901960784, \"rgb(123,30,89)\"], [0.3764705882352941, \"rgb(150,27,91)\"], [0.4392156862745098, \"rgb(177,22,88)\"], [0.5019607843137255, \"rgb(203,26,79)\"], [0.5647058823529412, \"rgb(223,47,67)\"], [0.6274509803921569, \"rgb(236,76,61)\"], [0.6901960784313725, \"rgb(242,107,73)\"], [0.7529411764705882, \"rgb(244,135,95)\"], [0.8156862745098039, \"rgb(245,162,122)\"], [0.8784313725490196, \"rgb(246,188,153)\"], [0.9411764705882353, \"rgb(247,212,187)\"], [1.0, \"rgb(250,234,220)\"]]}, \"colorway\": [\"rgb(76,114,176)\", \"rgb(221,132,82)\", \"rgb(85,168,104)\", \"rgb(196,78,82)\", \"rgb(129,114,179)\", \"rgb(147,120,96)\", \"rgb(218,139,195)\", \"rgb(140,140,140)\", \"rgb(204,185,116)\", \"rgb(100,181,205)\"], \"font\": {\"color\": \"rgb(36,36,36)\"}, \"geo\": {\"bgcolor\": \"white\", \"lakecolor\": \"white\", \"landcolor\": \"rgb(234,234,242)\", \"showlakes\": true, \"showland\": true, \"subunitcolor\": \"white\"}, \"hoverlabel\": {\"align\": \"left\"}, \"hovermode\": \"closest\", \"paper_bgcolor\": \"white\", \"plot_bgcolor\": \"rgb(234,234,242)\", \"polar\": {\"angularaxis\": {\"gridcolor\": \"white\", \"linecolor\": \"white\", \"showgrid\": true, \"ticks\": \"\"}, \"bgcolor\": \"rgb(234,234,242)\", \"radialaxis\": {\"gridcolor\": \"white\", \"linecolor\": \"white\", \"showgrid\": true, \"ticks\": \"\"}}, \"scene\": {\"xaxis\": {\"backgroundcolor\": \"rgb(234,234,242)\", \"gridcolor\": \"white\", \"gridwidth\": 2, \"linecolor\": \"white\", \"showbackground\": true, \"showgrid\": true, \"ticks\": \"\", \"zerolinecolor\": \"white\"}, \"yaxis\": {\"backgroundcolor\": \"rgb(234,234,242)\", \"gridcolor\": \"white\", \"gridwidth\": 2, \"linecolor\": \"white\", \"showbackground\": true, \"showgrid\": true, \"ticks\": \"\", \"zerolinecolor\": \"white\"}, \"zaxis\": {\"backgroundcolor\": \"rgb(234,234,242)\", \"gridcolor\": \"white\", \"gridwidth\": 2, \"linecolor\": \"white\", \"showbackground\": true, \"showgrid\": true, \"ticks\": \"\", \"zerolinecolor\": \"white\"}}, \"shapedefaults\": {\"fillcolor\": \"rgb(67,103,167)\", \"line\": {\"width\": 0}, \"opacity\": 0.5}, \"ternary\": {\"aaxis\": {\"gridcolor\": \"white\", \"linecolor\": \"white\", \"showgrid\": true, \"ticks\": \"\"}, \"baxis\": {\"gridcolor\": \"white\", \"linecolor\": \"white\", \"showgrid\": true, \"ticks\": \"\"}, \"bgcolor\": \"rgb(234,234,242)\", \"caxis\": {\"gridcolor\": \"white\", \"linecolor\": \"white\", \"showgrid\": true, \"ticks\": \"\"}}, \"xaxis\": {\"automargin\": true, \"gridcolor\": \"white\", \"linecolor\": \"white\", \"showgrid\": true, \"ticks\": \"\", \"title\": {\"standoff\": 15}, \"zerolinecolor\": \"white\"}, \"yaxis\": {\"automargin\": true, \"gridcolor\": \"white\", \"linecolor\": \"white\", \"showgrid\": true, \"ticks\": \"\", \"title\": {\"standoff\": 15}, \"zerolinecolor\": \"white\"}}}, \"xaxis\": {\"anchor\": \"y\", \"domain\": [0.0, 0.235], \"title\": {\"text\": \"PDRB\"}}, \"xaxis10\": {\"anchor\": \"y10\", \"domain\": [0.255, 0.49], \"matches\": \"x\", \"showticklabels\": false}, \"xaxis11\": {\"anchor\": \"y11\", \"domain\": [0.51, 0.745], \"matches\": \"x\", \"showticklabels\": false}, \"xaxis12\": {\"anchor\": \"y12\", \"domain\": [0.7649999999999999, 0.9999999999999999], \"matches\": \"x\", \"showticklabels\": false}, \"xaxis13\": {\"anchor\": \"y13\", \"domain\": [0.0, 0.235], \"matches\": \"x\", \"showticklabels\": false}, \"xaxis14\": {\"anchor\": \"y14\", \"domain\": [0.255, 0.49], \"matches\": \"x\", \"showticklabels\": false}, \"xaxis15\": {\"anchor\": \"y15\", \"domain\": [0.51, 0.745], \"matches\": \"x\", \"showticklabels\": false}, \"xaxis16\": {\"anchor\": \"y16\", \"domain\": [0.7649999999999999, 0.9999999999999999], \"matches\": \"x\", \"showticklabels\": false}, \"xaxis2\": {\"anchor\": \"y2\", \"domain\": [0.255, 0.49], \"matches\": \"x\", \"title\": {\"text\": \"PDRB\"}}, \"xaxis3\": {\"anchor\": \"y3\", \"domain\": [0.51, 0.745], \"matches\": \"x\", \"title\": {\"text\": \"PDRB\"}}, \"xaxis4\": {\"anchor\": \"y4\", \"domain\": [0.7649999999999999, 0.9999999999999999], \"matches\": \"x\", \"title\": {\"text\": \"PDRB\"}}, \"xaxis5\": {\"anchor\": \"y5\", \"domain\": [0.0, 0.235], \"matches\": \"x\", \"showticklabels\": false}, \"xaxis6\": {\"anchor\": \"y6\", \"domain\": [0.255, 0.49], \"matches\": \"x\", \"showticklabels\": false}, \"xaxis7\": {\"anchor\": \"y7\", \"domain\": [0.51, 0.745], \"matches\": \"x\", \"showticklabels\": false}, \"xaxis8\": {\"anchor\": \"y8\", \"domain\": [0.7649999999999999, 0.9999999999999999], \"matches\": \"x\", \"showticklabels\": false}, \"xaxis9\": {\"anchor\": \"y9\", \"domain\": [0.0, 0.235], \"matches\": \"x\", \"showticklabels\": false}, \"yaxis\": {\"anchor\": \"x\", \"domain\": [0.0, 0.1975], \"title\": {\"text\": \"PDRB_Per_Kapita\"}}, \"yaxis10\": {\"anchor\": \"x10\", \"domain\": [0.535, 0.7325], \"matches\": \"y\", \"showticklabels\": false}, \"yaxis11\": {\"anchor\": \"x11\", \"domain\": [0.535, 0.7325], \"matches\": \"y\", \"showticklabels\": false}, \"yaxis12\": {\"anchor\": \"x12\", \"domain\": [0.535, 0.7325], \"matches\": \"y\", \"showticklabels\": false}, \"yaxis13\": {\"anchor\": \"x13\", \"domain\": [0.8025, 1.0], \"matches\": \"y\", \"title\": {\"text\": \"PDRB_Per_Kapita\"}}, \"yaxis14\": {\"anchor\": \"x14\", \"domain\": [0.8025, 1.0], \"matches\": \"y\", \"showticklabels\": false}, \"yaxis15\": {\"anchor\": \"x15\", \"domain\": [0.8025, 1.0], \"matches\": \"y\", \"showticklabels\": false}, \"yaxis16\": {\"anchor\": \"x16\", \"domain\": [0.8025, 1.0], \"matches\": \"y\", \"showticklabels\": false}, \"yaxis2\": {\"anchor\": \"x2\", \"domain\": [0.0, 0.1975], \"matches\": \"y\", \"showticklabels\": false}, \"yaxis3\": {\"anchor\": \"x3\", \"domain\": [0.0, 0.1975], \"matches\": \"y\", \"showticklabels\": false}, \"yaxis4\": {\"anchor\": \"x4\", \"domain\": [0.0, 0.1975], \"matches\": \"y\", \"showticklabels\": false}, \"yaxis5\": {\"anchor\": \"x5\", \"domain\": [0.2675, 0.465], \"matches\": \"y\", \"title\": {\"text\": \"PDRB_Per_Kapita\"}}, \"yaxis6\": {\"anchor\": \"x6\", \"domain\": [0.2675, 0.465], \"matches\": \"y\", \"showticklabels\": false}, \"yaxis7\": {\"anchor\": \"x7\", \"domain\": [0.2675, 0.465], \"matches\": \"y\", \"showticklabels\": false}, \"yaxis8\": {\"anchor\": \"x8\", \"domain\": [0.2675, 0.465], \"matches\": \"y\", \"showticklabels\": false}, \"yaxis9\": {\"anchor\": \"x9\", \"domain\": [0.535, 0.7325], \"matches\": \"y\", \"title\": {\"text\": \"PDRB_Per_Kapita\"}}},                        {\"responsive\": true}                    ).then(function(){\n",
       "                            \n",
       "var gd = document.getElementById('753673f8-0865-4d14-a252-b07cc9302248');\n",
       "var x = new MutationObserver(function (mutations, observer) {{\n",
       "        var display = window.getComputedStyle(gd).display;\n",
       "        if (!display || display === 'none') {{\n",
       "            console.log([gd, 'removed!']);\n",
       "            Plotly.purge(gd);\n",
       "            observer.disconnect();\n",
       "        }}\n",
       "}});\n",
       "\n",
       "// Listen for the removal of the full notebook cells\n",
       "var notebookContainer = gd.closest('#notebook-container');\n",
       "if (notebookContainer) {{\n",
       "    x.observe(notebookContainer, {childList: true});\n",
       "}}\n",
       "\n",
       "// Listen for the clearing of the current output cell\n",
       "var outputEl = gd.closest('.output');\n",
       "if (outputEl) {{\n",
       "    x.observe(outputEl, {childList: true});\n",
       "}}\n",
       "\n",
       "                        })                };                });            </script>        </div>"
      ]
     },
     "metadata": {},
     "output_type": "display_data"
    }
   ],
   "source": [
    "px.scatter(df,x='PDRB',y='PDRB_Per_Kapita',color='Provinsi',template='seaborn',facet_col='Regional',facet_col_wrap=4)"
   ]
  },
  {
   "cell_type": "code",
   "execution_count": 15,
   "metadata": {
    "id": "M3wPitcx5rWp",
    "scrolled": false
   },
   "outputs": [
    {
     "data": {
      "text/html": [
       "\n",
       "        <iframe\n",
       "            width=\"100%\"\n",
       "            height=\"650\"\n",
       "            src=\"http://127.0.0.1:8050/\"\n",
       "            frameborder=\"0\"\n",
       "            allowfullscreen\n",
       "        ></iframe>\n",
       "        "
      ],
      "text/plain": [
       "<IPython.lib.display.IFrame at 0x12cec5668>"
      ]
     },
     "metadata": {},
     "output_type": "display_data"
    }
   ],
   "source": [
    "import dash\n",
    "import dash_core_components as dcc\n",
    "import dash_html_components as html\n",
    "from dash.dependencies import Input, Output\n",
    "import plotly.express as px\n",
    "from jupyter_dash import JupyterDash\n",
    "import dash_bootstrap_components as dbc\n",
    "\n",
    "# geojson = indo_kabkota_geojson\n",
    "option = ['Jumlah_Penduduk','Dana_Alokasi_Umum','Nilai_UMR',\n",
    "       'Jumlah_Penduduk_Miskin', 'Jumlah_Penduduk_Bekerja',\n",
    "       'Pengguna_Internet', 'Pemilik_Ponsel', 'Pengguna_Ponsel',\n",
    "       'Kepadatan_Penduduk',\n",
    "       ]\n",
    "lokasi = ['Area','Provinsi','Kota_Kabupaten','Regional']\n",
    "external_stylesheets = ['https://codepen.io/chriddyp/pen/bWLwgP.css']\n",
    "# app = dash.Dash(__name__, external_stylesheets=external_stylesheets)\n",
    "app = JupyterDash(__name__,external_stylesheets=[dbc.themes.BOOTSTRAP])\n",
    "###########################################################################################################\n",
    "#Setting Layout awal dashboard\n",
    "app.layout = html.Div([\n",
    "    html.H1(children=\"DEMOGRAFI PENDUDUK INDONESIA\",style={'text-align': 'center'}),\n",
    "\n",
    "    dcc.Dropdown(id=\"pilihan\",\n",
    "                 options=[{'value': x, 'label': x} \n",
    "                          for x in option],\n",
    "                 value=option[0],                  \n",
    "                 multi=False,\n",
    "                 style={'width': \"80%\"}\n",
    "                 ),\n",
    "    \n",
    "    dcc.Graph(id=\"choropleth\",figure={}),\n",
    "    html.Br(),\n",
    "    \n",
    "    dcc.RadioItems(\n",
    "        id='lokasi', \n",
    "        options=[{'value': x, 'label': x} \n",
    "                 for x in lokasi],\n",
    "        value='Area',\n",
    "        labelStyle={'display': 'inline-block'}\n",
    "    ),\n",
    "    \n",
    "#     html.Br(),    \n",
    "    dcc.Graph(id=\"bar-chart\",figure={}),\n",
    "    html.Br(),\n",
    "])\n",
    "\n",
    "#################################################################################################\n",
    "#Membuat callback  input & outputnya\n",
    "@app.callback(\n",
    "    Output('choropleth', 'figure'),\n",
    "    [Input('pilihan', 'value')],\n",
    ")\n",
    "\n",
    "#Display Map Sesuai Pilihan\n",
    "def display_choropleth(pilihan):\n",
    "    # Plotly Express\n",
    "    fig = px.choropleth(\n",
    "        data_frame=df,\n",
    "        geojson=indo_kabkota_geojson,\n",
    "        featureidkey=\"properties.ID_2\",\n",
    "        locations='id',\n",
    "        color=pilihan,\n",
    "        hover_name='Kota_Kabupaten',\n",
    "#         hover_data=[option],\n",
    "        color_continuous_scale=px.colors.sequential.Rainbow_r,\n",
    "        labels={'Demografi Jumlah Penduduk Indonesia'},\n",
    "        template='seaborn',\n",
    "#         height=700,\n",
    "#         width = 1800,\n",
    "    )\n",
    "    \n",
    "    fig.update_geos(fitbounds=\"locations\", visible=False)\n",
    "#     fig.update_layout(margin={\"r\":0,\"t\":0,\"l\":0,\"b\":0})\n",
    "    \n",
    "    return fig\n",
    "\n",
    "# def draw_choropleth(pilihan):\n",
    "#     fig = px.choropleth_mapbox(df, \n",
    "#                             geojson=indo_kabkota_geojson, \n",
    "#                             color=pilihan,\n",
    "#                             locations=\"id\", \n",
    "#                             featureidkey=\"properties.ID_2\",\n",
    "#                             center={\"lat\": 0.7893, \"lon\":113.9213 },                               \n",
    "#                             color_continuous_scale=\"Viridis\",\n",
    "#                             #range_color=(0, 12),\n",
    "#                             mapbox_style=\"carto-positron\",\n",
    "#                             zoom=4, \n",
    "#                             opacity=0.5,\n",
    "#                             )\n",
    "#     fig.update_layout(margin={\"r\":0,\"t\":0,\"l\":0,\"b\":0},\n",
    "#                         height=700,\n",
    "#                         )\n",
    "#     return fig\n",
    "\n",
    "@app.callback(\n",
    "     Output('bar-chart', 'figure'),\n",
    "    [Input('lokasi', 'value'),Input('pilihan', 'value')],\n",
    ")\n",
    "#Display Bar Chart Sesuai Pilihan & lokasi\n",
    "def update_bar_chart(lokasi,pilihan):\n",
    "    fig = px.bar(df.sort_values(by=pilihan,ascending=False), x=lokasi, y=pilihan, \n",
    "                 color=lokasi,\n",
    "                 hover_data=[pilihan,'Kota_Kabupaten'],\n",
    "                 template='ggplot2',\n",
    "#                  width=1800,\n",
    "                 height=800,\n",
    "                )\n",
    "\n",
    "    return fig\n",
    "\n",
    "##################################################################################################\n",
    "\n",
    "#Running Web Server\n",
    "if __name__ == '__main__':\n",
    "#     app.run_server(debug=True, use_reloader=False)\n",
    "    app.run_server(mode='inline')"
   ]
  },
  {
   "cell_type": "code",
   "execution_count": null,
   "metadata": {},
   "outputs": [],
   "source": []
  },
  {
   "cell_type": "code",
   "execution_count": null,
   "metadata": {},
   "outputs": [],
   "source": []
  },
  {
   "cell_type": "code",
   "execution_count": null,
   "metadata": {},
   "outputs": [],
   "source": []
  }
 ],
 "metadata": {
  "colab": {
   "name": "Test_Data_Analyst_Visualization.ipynb",
   "version": ""
  },
  "kernelspec": {
   "display_name": "Python 3 (ipykernel)",
   "language": "python",
   "name": "python3"
  },
  "language_info": {
   "codemirror_mode": {
    "name": "ipython",
    "version": 3
   },
   "file_extension": ".py",
   "mimetype": "text/x-python",
   "name": "python",
   "nbconvert_exporter": "python",
   "pygments_lexer": "ipython3",
   "version": "3.7.0"
  }
 },
 "nbformat": 4,
 "nbformat_minor": 5
}
